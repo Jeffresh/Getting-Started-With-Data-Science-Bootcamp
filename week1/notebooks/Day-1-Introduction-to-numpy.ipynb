{
  "nbformat": 4,
  "nbformat_minor": 0,
  "metadata": {
    "kernelspec": {
      "name": "python389jvsc74a57bd0bbe2475d0ef363d2446b8e424bcb9fcdfbc8b3ab74fd2a2035c1014c5592e7a5",
      "display_name": "Python 3.8.9 64-bit ('.env')"
    },
    "language_info": {
      "codemirror_mode": {
        "name": "ipython",
        "version": 3
      },
      "file_extension": ".py",
      "mimetype": "text/x-python",
      "name": "python",
      "nbconvert_exporter": "python",
      "pygments_lexer": "ipython3",
      "version": "3.8.9-final"
    },
    "colab": {
      "name": "Introduction_to_Numpy.ipynb",
      "provenance": [],
      "collapsed_sections": [
        "duzjeUcif80N",
        "zuBioeTlf80X",
        "GwLfLSTlf80l",
        "2-uucNPFf801",
        "cUHAWcogf81A",
        "glWK1SmQf81L",
        "8Zzy41d-f81X",
        "IUcJXROuf81e",
        "3UynyX_tf82I",
        "RjHuCML-f82Z",
        "Q4CsNBFlf82q",
        "7dO7jOTAf82z",
        "VTFMFZL5f83I",
        "rNyg6F4Rf83U",
        "F1c5rQ_ef83k",
        "MKctH8ahf84O",
        "XQrlx6_sf84s",
        "4fQJHzwsf85n",
        "5mza7Wgaf85v",
        "cxq-GcGNf86X",
        "4IZrRPhaf86z",
        "eEOFfrmhf87E",
        "fLS5wApRf87o",
        "A7-1g-4nf88X",
        "01h2ZBRof88c",
        "l4lf81DJf88y",
        "iXJBJnNuf89E",
        "Bwr6bR0Yf89Z",
        "XmZ4smUcf89q",
        "72_3EDqvf89u"
      ],
      "include_colab_link": true
    }
  },
  "cells": [
    {
      "cell_type": "markdown",
      "metadata": {
        "id": "view-in-github",
        "colab_type": "text"
      },
      "source": [
        "<a href=\"https://colab.research.google.com/github/dphi-official/Data_Science_Bootcamp/blob/master/Week0/Introduction_to_Numpy.ipynb\" target=\"_parent\"><img src=\"https://colab.research.google.com/assets/colab-badge.svg\" alt=\"Open In Colab\"/></a>"
      ]
    },
    {
      "cell_type": "markdown",
      "metadata": {
        "id": "625hlYMPf8zF",
        "colab_type": "text"
      },
      "source": [
        "# Week 0\n",
        "# `Numpy`, Scientific and numeric library\n"
      ]
    },
    {
      "cell_type": "markdown",
      "metadata": {
        "id": "xJOXAgfBf8zI",
        "colab_type": "text"
      },
      "source": [
        "`Numerical Python` popularly known as `Numpy` is core library for scientific computing. It provides high performance multi-dimensional array object and tools for working with these objects. \n",
        "\n",
        "In the following sections, we will be working on the `Numpy` library and its uses. We will compare the performance of some `Numpy` operations with their classic `Python` equivalent and discuss the uses of the library. Let us begin!"
      ]
    },
    {
      "cell_type": "markdown",
      "metadata": {
        "id": "NQCUhFQSf8zK",
        "colab_type": "text"
      },
      "source": [
        "## 1. Comparing `Python` List vs `Numpy` array (This section is optional and can be skipped)"
      ]
    },
    {
      "cell_type": "markdown",
      "metadata": {
        "id": "Cpk4vXTSHOFd",
        "colab_type": "text"
      },
      "source": [
        "***You DON'T need to memorize this code - it is just to give you a comparison to know why NumPy is better. Reason: It could be overwhelming sometimes as a beginner so don't hesitate to simply skip section 1 and jump to section 2. However, please ensure you read the conclusion***"
      ]
    },
    {
      "cell_type": "markdown",
      "metadata": {
        "id": "NSQtOH1Rf8zL",
        "colab_type": "text"
      },
      "source": [
        "Consider the following snippet adapted from https://webcourses.ucf.edu/courses/. We start importing the `numpy` and `timeit` libraries. `Numpy`, as we have stated, enables scientific computing and high performance tasks executions with multi-dimensional or n-dimensional arrays. The `Timer` module from `timeit` library is used for the purpose of calculating the time that certain scripts take."
      ]
    },
    {
      "cell_type": "code",
      "metadata": {
        "id": "i1i1tS9tf8zN",
        "colab_type": "code",
        "colab": {}
      },
      "source": [
        "import numpy as np\n",
        "from timeit import Timer"
      ],
      "execution_count": 1,
      "outputs": []
    },
    {
      "cell_type": "markdown",
      "metadata": {
        "id": "louBYzo8f8zY",
        "colab_type": "text"
      },
      "source": [
        "With imported libraries, we proceed to create two example arrays with numbers in the range [0, 9999]:"
      ]
    },
    {
      "cell_type": "code",
      "metadata": {
        "id": "241igxSDf8za",
        "colab_type": "code",
        "colab": {}
      },
      "source": [
        "size_of_vec = 10000\n",
        "X_list = range(size_of_vec)\n",
        "Y_list = range(size_of_vec)\n",
        "X = np.arange(size_of_vec)\n",
        "Y = np.arange(size_of_vec)"
      ],
      "execution_count": 2,
      "outputs": []
    },
    {
      "cell_type": "markdown",
      "metadata": {
        "id": "AzHFPnhEf8zh",
        "colab_type": "text"
      },
      "source": [
        "To compare the performance of two scripts, one explicitly developed with `Python` and another with `Numpy`, we defined two user functions:"
      ]
    },
    {
      "cell_type": "code",
      "metadata": {
        "id": "SawZl2J_f8zi",
        "colab_type": "code",
        "colab": {}
      },
      "source": [
        "def pure_python_version(): #Explicitly Python based with lists\n",
        "    Z = []\n",
        "    for i in range(len(X_list)):\n",
        "        Z.append(X_list[i] + Y_list[i])\n",
        "    \n",
        "def numpy_version(): #Explicitly Numpy based with vectorization\n",
        "    Z = X + Y "
      ],
      "execution_count": 3,
      "outputs": []
    },
    {
      "cell_type": "markdown",
      "metadata": {
        "id": "9BgUjtIrf8zq",
        "colab_type": "text"
      },
      "source": [
        "We call the developed functions and measure the time it takes to execute them once:"
      ]
    },
    {
      "cell_type": "code",
      "metadata": {
        "id": "dXd9ssVef8zr",
        "colab_type": "code",
        "colab": {
          "base_uri": "https://localhost:8080/",
          "height": 71
        },
        "outputId": "8fd16c0e-ee98-4c35-df2e-13bdcdaa7e0b"
      },
      "source": [
        "timer_obj1 = Timer(\"pure_python_version()\", \n",
        "                   \"from __main__ import pure_python_version\")\n",
        "timer_obj2 = Timer(\"numpy_version()\", \n",
        "                   \"from __main__ import numpy_version\")\n",
        "\n",
        "print(\"Pure python version:\",timer_obj1.timeit(10))\n",
        "print(\"Numpy version:\",timer_obj2.timeit(10))"
      ],
      "execution_count": 4,
      "outputs": [
        {
          "output_type": "stream",
          "name": "stdout",
          "text": [
            "Pure python version: 0.11837320000086038\nNumpy version: 0.0002834999995684484\n"
          ]
        }
      ]
    },
    {
      "cell_type": "markdown",
      "metadata": {
        "id": "XICWRcHEf8z1",
        "colab_type": "text"
      },
      "source": [
        "As we can see, the vectorized sum approach with `Numpy` is much faster than the purely `Python` based approach."
      ]
    },
    {
      "cell_type": "markdown",
      "metadata": {
        "id": "hCAlmr9ff8z2",
        "colab_type": "text"
      },
      "source": [
        "## 2.Creating `Numpy` array from `Python` list"
      ]
    },
    {
      "cell_type": "markdown",
      "metadata": {
        "id": "sb_vLAaof8z4",
        "colab_type": "text"
      },
      "source": [
        "Let's start by creating a `numpy` array from a predefined list with te values 165, 170, 171, 180, 189, and 178:"
      ]
    },
    {
      "cell_type": "code",
      "metadata": {
        "id": "kkLxDnnVf8z5",
        "colab_type": "code",
        "colab": {
          "base_uri": "https://localhost:8080/",
          "height": 51
        },
        "outputId": "357eed58-a1a1-43a0-e7d6-334a04dee815"
      },
      "source": [
        "heights = [165, 170, 171, 180, 189, 178]\n",
        "print(type(heights))\n",
        "\n",
        "heights_np = np.array(heights)\n",
        "print(type(heights_np))"
      ],
      "execution_count": 29,
      "outputs": [
        {
          "output_type": "stream",
          "name": "stdout",
          "text": [
            "<class 'list'>\n<class 'numpy.ndarray'>\n"
          ]
        }
      ]
    },
    {
      "cell_type": "markdown",
      "metadata": {
        "id": "iUwolQ_-f80D",
        "colab_type": "text"
      },
      "source": [
        "The type of object defined at first is a `list`. After conversion with the `.array()` function, the object is converted into a `ndarray` object. This means that we have created an array of multiple dimensions (`n` dimensions) from a `list`. In this case, the `numpy` array is a **one-dimensional array**.\n",
        "\n",
        "Now let's see how to create a **two-dimensional array**:"
      ]
    },
    {
      "cell_type": "code",
      "metadata": {
        "id": "HBRmbMLsf80E",
        "colab_type": "code",
        "colab": {
          "base_uri": "https://localhost:8080/",
          "height": 119
        },
        "outputId": "abb591c2-ab6a-4301-80da-bb45ec331e91"
      },
      "source": [
        "weights = np.array([[50, 45, 56, 78],[78, 89, 59, 90],[89, 78, 69, 70],[67, 69, 89, 70],[90,89, 80, 84],[89, 59, 90, 78]])\n",
        "print(weights)"
      ],
      "execution_count": 6,
      "outputs": [
        {
          "output_type": "stream",
          "name": "stdout",
          "text": [
            "[[50 45 56 78]\n [78 89 59 90]\n [89 78 69 70]\n [67 69 89 70]\n [90 89 80 84]\n [89 59 90 78]]\n"
          ]
        }
      ]
    },
    {
      "cell_type": "markdown",
      "metadata": {
        "id": "duzjeUcif80N",
        "colab_type": "text"
      },
      "source": [
        "## 3. Exploring some of the key attributes of `ndarray` objects"
      ]
    },
    {
      "cell_type": "markdown",
      "metadata": {
        "id": "JyAN5tiCf80O",
        "colab_type": "text"
      },
      "source": [
        "Multidimensional arrays have the following important attributes:\n",
        "\n",
        "- `ndim`: number of dimensions of the array\n",
        "- `shape`: shape of the array in the format `(number_rows, number_columns)`\n",
        "- `size`: total number of elements\n",
        "- `dtypes`: type of data stored in the array\n",
        "- `strides`: number of bytes that must be moved to store each row and column in memory, in the format `(number_bytes_files, number_bytes_columns)`\n",
        "\n",
        "Let's see an example:"
      ]
    },
    {
      "cell_type": "code",
      "metadata": {
        "id": "TKVMAgWCf80P",
        "colab_type": "code",
        "colab": {},
        "outputId": "43b84dbe-ec9a-4e7b-e5ad-355877629d31"
      },
      "source": [
        "print(\"dimension:\", weights.ndim)\n",
        "print(\"shape:\", weights.shape)\n",
        "print(\"size:\", weights.size)\n",
        "print(\"dtype:\", weights.dtype)\n",
        "print(\"strides:\", weights.strides)"
      ],
      "execution_count": 7,
      "outputs": [
        {
          "output_type": "stream",
          "name": "stdout",
          "text": [
            "dimension: 2\nshape: (6, 4)\nsize: 24\ndtype: int32\nstrides: (16, 4)\n"
          ]
        }
      ]
    },
    {
      "cell_type": "markdown",
      "metadata": {
        "id": "y-sKcGcGf80W",
        "colab_type": "text"
      },
      "source": [
        "The exemplified arrangement has:\n",
        "\n",
        "- `ndim` of 2 because it is a two-dimensional array.\n",
        "- `shape` of (6, 4) as it is made up of 6 rows and 4 columns.\n",
        "- `size` of 24 since it has 24 elements in total, 6 elements per column or what is the same, 4 elements per row.\n",
        "- int32 `dtypes` because each element of the array is a 32-bit (4-byte) integer\n",
        "- `strides` of (16, 4) since 16 bytes (4 integers of 4 bytes in the rows) are needed to store each row in memory and 4 bytes (1 integer per column) to store each column in memory."
      ]
    },
    {
      "cell_type": "markdown",
      "metadata": {
        "id": "zuBioeTlf80X",
        "colab_type": "text"
      },
      "source": [
        "## Exercise 1\n",
        "\n",
        "Convert the two-dimensional `ndarray` `weights` into a three-dimensional object without changing its shape."
      ]
    },
    {
      "cell_type": "code",
      "metadata": {
        "id": "7cpZ-m05f80Y",
        "colab_type": "code",
        "colab": {}
      },
      "source": [
        "weights.reshape(1, 6, 4)"
      ],
      "execution_count": 34,
      "outputs": [
        {
          "output_type": "execute_result",
          "data": {
            "text/plain": [
              "array([[[50, 45, 56, 78],\n",
              "        [78, 89, 59, 90],\n",
              "        [89, 78, 69, 70],\n",
              "        [67, 69, 89, 70],\n",
              "        [90, 89, 80, 84],\n",
              "        [89, 59, 90, 78]]])"
            ]
          },
          "metadata": {},
          "execution_count": 34
        }
      ]
    },
    {
      "cell_type": "markdown",
      "metadata": {
        "id": "L4FLs2Y-f80g",
        "colab_type": "text"
      },
      "source": [
        "## 4. Exploring some of the key functions defined for `numpy` arrays"
      ]
    },
    {
      "cell_type": "markdown",
      "metadata": {
        "id": "4hZBZk5jf80k",
        "colab_type": "text"
      },
      "source": [
        "In this section we are going to explore some of the most important functions of `numpy` arrays:\n",
        "\n",
        "1. `zeros(shape=(n,m))`: Allows to create a zero-array with the shape (`n` rows, `m` columns)\n",
        "2. `arange(start=i, stop=j, step=u)`: creates a one-dimensional array whose first value is `i` inclusive, last value is `j` exclusive, and each value varies  `s` steps from the previous.\n",
        "3. `linspace(start=i, stop=j, num=n)`: creates a one-dimensional array whose first value is `i` inclusive, last value is `j` inclusive and contains `n` values in total. Each value differs from the previous one with the same magnitude that differs from the next.\n",
        "4. `full(shape=(n,m), fill_value=f)`: Allows to create an array with the shape (`n` rows,` m` columns), where all positions have the value `f`.\n",
        "\n",
        "Let's delve into each of them:"
      ]
    },
    {
      "cell_type": "markdown",
      "metadata": {
        "id": "GwLfLSTlf80l",
        "colab_type": "text"
      },
      "source": [
        "### 4.1. np.zeros()"
      ]
    },
    {
      "cell_type": "markdown",
      "metadata": {
        "id": "J-zrQhMSf80q",
        "colab_type": "text"
      },
      "source": [
        "The `zeros(shape=(n,m), dtypes)` function creates a zero-array with the shape (`n` rows, `m` columns) and data types of `dtypes`:"
      ]
    },
    {
      "cell_type": "code",
      "metadata": {
        "id": "9qRWHkudf80t",
        "colab_type": "code",
        "colab": {},
        "outputId": "af69b6fb-589b-4ef2-e133-5a0bf4363eb8"
      },
      "source": [
        "x = np.zeros(shape=(3,5), dtype =\"int32\")\n",
        "print(x)"
      ],
      "execution_count": 9,
      "outputs": [
        {
          "output_type": "stream",
          "name": "stdout",
          "text": [
            "[[0 0 0 0 0]\n [0 0 0 0 0]\n [0 0 0 0 0]]\n"
          ]
        }
      ]
    },
    {
      "cell_type": "markdown",
      "metadata": {
        "id": "HPwZ4v9wf800",
        "colab_type": "text"
      },
      "source": [
        "As you can notice, we have created a two-dimensional array of zeros of three rows and five columns where each element is a 32-bit integer."
      ]
    },
    {
      "cell_type": "markdown",
      "metadata": {
        "id": "2-uucNPFf801",
        "colab_type": "text"
      },
      "source": [
        "### 4.2. np.arange()"
      ]
    },
    {
      "cell_type": "markdown",
      "metadata": {
        "id": "QuRU-nFrf802",
        "colab_type": "text"
      },
      "source": [
        "The `arange(start=i, stop=j, step=u)` function creates a one-dimensional array whose first value is `i` inclusive, last value is `j` exclusive, and each value varies  `s` steps from the previous:"
      ]
    },
    {
      "cell_type": "code",
      "metadata": {
        "id": "l61EVL0mf803",
        "colab_type": "code",
        "colab": {},
        "outputId": "512abf98-e851-4984-b6eb-056b135f7db6"
      },
      "source": [
        "x = np.arange(start=100, stop=1000, step=100, dtype=\"int32\")\n",
        "print(x)"
      ],
      "execution_count": 10,
      "outputs": [
        {
          "output_type": "stream",
          "name": "stdout",
          "text": [
            "[100 200 300 400 500 600 700 800 900]\n"
          ]
        }
      ]
    },
    {
      "cell_type": "markdown",
      "metadata": {
        "id": "HDJFZl9df80-",
        "colab_type": "text"
      },
      "source": [
        "This function has allowed us to create a one-dimensional array that starts at 100, ends at 1000 (exclusive) and progresses from 100 to 100, with 32-bit integer values."
      ]
    },
    {
      "cell_type": "markdown",
      "metadata": {
        "id": "cUHAWcogf81A",
        "colab_type": "text"
      },
      "source": [
        "### 4.3. np.linspace()"
      ]
    },
    {
      "cell_type": "markdown",
      "metadata": {
        "id": "k_SPhGvwf81C",
        "colab_type": "text"
      },
      "source": [
        "The `linspace(start=i, stop=j, num=n)` function creates a one-dimensional array whose first value is `i` inclusive, last value is `j` inclusive and contains `n` values in total. Each value differs from the previous one with the same magnitude that differs from the next. Consider the following example:"
      ]
    },
    {
      "cell_type": "code",
      "metadata": {
        "id": "JrRo0FEBf81D",
        "colab_type": "code",
        "colab": {},
        "outputId": "058d89d6-1ee2-45ca-c1ca-9da978cd43f1"
      },
      "source": [
        "x_lin = np.linspace(start=10, stop=50, num=30)\n",
        "print(x_lin)"
      ],
      "execution_count": 11,
      "outputs": [
        {
          "output_type": "stream",
          "name": "stdout",
          "text": [
            "[10.         11.37931034 12.75862069 14.13793103 15.51724138 16.89655172\n 18.27586207 19.65517241 21.03448276 22.4137931  23.79310345 25.17241379\n 26.55172414 27.93103448 29.31034483 30.68965517 32.06896552 33.44827586\n 34.82758621 36.20689655 37.5862069  38.96551724 40.34482759 41.72413793\n 43.10344828 44.48275862 45.86206897 47.24137931 48.62068966 50.        ]\n"
          ]
        }
      ]
    },
    {
      "cell_type": "markdown",
      "metadata": {
        "id": "IsS-p8Yef81I",
        "colab_type": "text"
      },
      "source": [
        "We have created a one-dimensional array that varies linearly from 10 to 50 inclusive, for a total of 30 floating numbers."
      ]
    },
    {
      "cell_type": "markdown",
      "metadata": {
        "id": "glWK1SmQf81L",
        "colab_type": "text"
      },
      "source": [
        "### 4.4. np.full()"
      ]
    },
    {
      "cell_type": "markdown",
      "metadata": {
        "id": "PTgQ9ldVf81M",
        "colab_type": "text"
      },
      "source": [
        "The `full(shape=(n,m), fill_value=f)` function allows to create an array with the shape (`n` rows,` m` columns), where all positions have the value `f`."
      ]
    },
    {
      "cell_type": "code",
      "metadata": {
        "id": "Kf31_4HUf81O",
        "colab_type": "code",
        "colab": {},
        "outputId": "2e163b41-1819-47e5-cf90-4ff9dca35648"
      },
      "source": [
        "x_ful = np.full(shape=(5,6), fill_value=3)\n",
        "print(x_ful)"
      ],
      "execution_count": 12,
      "outputs": [
        {
          "output_type": "stream",
          "name": "stdout",
          "text": [
            "[[3 3 3 3 3 3]\n [3 3 3 3 3 3]\n [3 3 3 3 3 3]\n [3 3 3 3 3 3]\n [3 3 3 3 3 3]]\n"
          ]
        }
      ]
    },
    {
      "cell_type": "markdown",
      "metadata": {
        "id": "pHL6OuLlf81X",
        "colab_type": "text"
      },
      "source": [
        "We see that a two-dimensional array of 5 rows and 6 columns has been created, all with a value of 3 at their positions."
      ]
    },
    {
      "cell_type": "markdown",
      "metadata": {
        "id": "8Zzy41d-f81X",
        "colab_type": "text"
      },
      "source": [
        "## 5. Exploring additional attributes and functions"
      ]
    },
    {
      "cell_type": "markdown",
      "metadata": {
        "id": "jhBU9CN8f81a",
        "colab_type": "text"
      },
      "source": [
        "Let's review three additional functions: `.reshape()`, `.flatten()` and `.ravel()`."
      ]
    },
    {
      "cell_type": "markdown",
      "metadata": {
        "id": "IUcJXROuf81e",
        "colab_type": "text"
      },
      "source": [
        "### 5.1. Reshaping the array"
      ]
    },
    {
      "cell_type": "markdown",
      "metadata": {
        "id": "p-hZXH5mf81f",
        "colab_type": "text"
      },
      "source": [
        "Let's reshape the `weights` numpy array. First take a look to the contant and the shape of `weights`:"
      ]
    },
    {
      "cell_type": "code",
      "metadata": {
        "id": "Uvye9oIxf81g",
        "colab_type": "code",
        "colab": {},
        "outputId": "05ca2490-6029-446f-872f-75efc27ed27f"
      },
      "source": [
        "weights"
      ],
      "execution_count": 13,
      "outputs": [
        {
          "output_type": "execute_result",
          "data": {
            "text/plain": [
              "array([[50, 45, 56, 78],\n",
              "       [78, 89, 59, 90],\n",
              "       [89, 78, 69, 70],\n",
              "       [67, 69, 89, 70],\n",
              "       [90, 89, 80, 84],\n",
              "       [89, 59, 90, 78]])"
            ]
          },
          "metadata": {},
          "execution_count": 13
        }
      ]
    },
    {
      "cell_type": "code",
      "metadata": {
        "id": "y3uZdhkAf81k",
        "colab_type": "code",
        "colab": {},
        "outputId": "6b9f9116-0c08-49ea-9cab-5b10cd5a0914"
      },
      "source": [
        "weights.shape"
      ],
      "execution_count": 14,
      "outputs": [
        {
          "output_type": "execute_result",
          "data": {
            "text/plain": [
              "(6, 4)"
            ]
          },
          "metadata": {},
          "execution_count": 14
        }
      ]
    },
    {
      "cell_type": "markdown",
      "metadata": {
        "id": "AoGBOHFff81n",
        "colab_type": "text"
      },
      "source": [
        "The reshaping procedure is done using the `.reshape((n1,m1))` function, which receives as input parameters a tuple of two values `n1` and `m1` that is, the new shape of the array to be created from the original array:"
      ]
    },
    {
      "cell_type": "code",
      "metadata": {
        "id": "XC76Z_pPf81o",
        "colab_type": "code",
        "colab": {},
        "outputId": "ae0c057e-5c53-4291-bec0-5ee165efc900"
      },
      "source": [
        "weights = weights.reshape((4,6))\n",
        "weights"
      ],
      "execution_count": 15,
      "outputs": [
        {
          "output_type": "execute_result",
          "data": {
            "text/plain": [
              "array([[50, 45, 56, 78, 78, 89],\n",
              "       [59, 90, 89, 78, 69, 70],\n",
              "       [67, 69, 89, 70, 90, 89],\n",
              "       [80, 84, 89, 59, 90, 78]])"
            ]
          },
          "metadata": {},
          "execution_count": 15
        }
      ]
    },
    {
      "cell_type": "code",
      "metadata": {
        "id": "TBIXnjdRf81r",
        "colab_type": "code",
        "colab": {},
        "outputId": "c9040b7a-1cb3-4901-f436-80e67332e25e"
      },
      "source": [
        "weights.shape"
      ],
      "execution_count": 16,
      "outputs": [
        {
          "output_type": "execute_result",
          "data": {
            "text/plain": [
              "(4, 6)"
            ]
          },
          "metadata": {},
          "execution_count": 16
        }
      ]
    },
    {
      "cell_type": "markdown",
      "metadata": {
        "id": "OBHeOcP2f81x",
        "colab_type": "text"
      },
      "source": [
        "Can you see the difference? We have changed the shape of the `weights` array, from 6 rows and 4 columns, to 4 rows and 6 columns. The way the values are distributed in the new array is from left-to-right then top-to-bottom. \n",
        "\n",
        "Let's add a new dimension through reshaping the current `weights` array:"
      ]
    },
    {
      "cell_type": "code",
      "metadata": {
        "id": "RqjgG-E-f81y",
        "colab_type": "code",
        "colab": {},
        "outputId": "587904d5-0c3d-4769-dfa6-f1b19540918d"
      },
      "source": [
        "weights = weights.reshape((2,6,2))\n",
        "weights"
      ],
      "execution_count": 17,
      "outputs": [
        {
          "output_type": "execute_result",
          "data": {
            "text/plain": [
              "array([[[50, 45],\n",
              "        [56, 78],\n",
              "        [78, 89],\n",
              "        [59, 90],\n",
              "        [89, 78],\n",
              "        [69, 70]],\n",
              "\n",
              "       [[67, 69],\n",
              "        [89, 70],\n",
              "        [90, 89],\n",
              "        [80, 84],\n",
              "        [89, 59],\n",
              "        [90, 78]]])"
            ]
          },
          "metadata": {},
          "execution_count": 17
        }
      ]
    },
    {
      "cell_type": "code",
      "metadata": {
        "id": "gNbMV0uGf811",
        "colab_type": "code",
        "colab": {},
        "outputId": "27a0e2bd-5871-46c4-b9ce-b7403c19449d"
      },
      "source": [
        "weights.shape"
      ],
      "execution_count": 18,
      "outputs": [
        {
          "output_type": "execute_result",
          "data": {
            "text/plain": [
              "(2, 6, 2)"
            ]
          },
          "metadata": {},
          "execution_count": 18
        }
      ]
    },
    {
      "cell_type": "markdown",
      "metadata": {
        "id": "lijIZHcnf82G",
        "colab_type": "text"
      },
      "source": [
        "Now, the array is three-dimensionally estructured. Two bi-dimensional (2D) arrays conform the new array, and each of the 2D arrays have two rows and six columns."
      ]
    },
    {
      "cell_type": "markdown",
      "metadata": {
        "id": "3UynyX_tf82I",
        "colab_type": "text"
      },
      "source": [
        "### 5.2. Flattening the array"
      ]
    },
    {
      "cell_type": "markdown",
      "metadata": {
        "id": "IJCbQ0_6f82K",
        "colab_type": "text"
      },
      "source": [
        "The `.flatten()` function returns a copy of an array collapsed into one dimension, no matter how many dimensions the array has. Consider the `weights` two-dimensional array:"
      ]
    },
    {
      "cell_type": "code",
      "metadata": {
        "id": "G5xkP1TQf82L",
        "colab_type": "code",
        "colab": {},
        "outputId": "29b1fd7a-d45b-4b55-a163-aad933b8657e"
      },
      "source": [
        "weights"
      ],
      "execution_count": 19,
      "outputs": [
        {
          "output_type": "execute_result",
          "data": {
            "text/plain": [
              "array([[[50, 45],\n",
              "        [56, 78],\n",
              "        [78, 89],\n",
              "        [59, 90],\n",
              "        [89, 78],\n",
              "        [69, 70]],\n",
              "\n",
              "       [[67, 69],\n",
              "        [89, 70],\n",
              "        [90, 89],\n",
              "        [80, 84],\n",
              "        [89, 59],\n",
              "        [90, 78]]])"
            ]
          },
          "metadata": {},
          "execution_count": 19
        }
      ]
    },
    {
      "cell_type": "markdown",
      "metadata": {
        "id": "Z8EB6PCZf82S",
        "colab_type": "text"
      },
      "source": [
        "If we flatten the array, we are re-organizing their elements in a one-dimensional array, as follows:"
      ]
    },
    {
      "cell_type": "code",
      "metadata": {
        "id": "-n2o9S9tf82T",
        "colab_type": "code",
        "colab": {},
        "outputId": "e1409f5e-7c4f-40d5-ded3-b273071ed764"
      },
      "source": [
        "weights_flattened = weights.flatten()\n",
        "weights_flattened"
      ],
      "execution_count": 20,
      "outputs": [
        {
          "output_type": "execute_result",
          "data": {
            "text/plain": [
              "array([50, 45, 56, 78, 78, 89, 59, 90, 89, 78, 69, 70, 67, 69, 89, 70, 90,\n",
              "       89, 80, 84, 89, 59, 90, 78])"
            ]
          },
          "metadata": {},
          "execution_count": 20
        }
      ]
    },
    {
      "cell_type": "markdown",
      "metadata": {
        "id": "RjHuCML-f82Z",
        "colab_type": "text"
      },
      "source": [
        "### 5.3. Raveling the array"
      ]
    },
    {
      "cell_type": "markdown",
      "metadata": {
        "id": "7VmmZT4Tf82b",
        "colab_type": "text"
      },
      "source": [
        "The `.ravel()` function returns a flattened view of an array collapsed into one dimension. It works identically to the `.flatten()` function, although a copy in memory is not achieve, just a flatten view of the final result. \n",
        "\n",
        "Consider the `weights` two-dimensional array:"
      ]
    },
    {
      "cell_type": "code",
      "metadata": {
        "id": "KKKMIGbtf82d",
        "colab_type": "code",
        "colab": {}
      },
      "source": [
        "weights_raveld = weights.ravel()"
      ],
      "execution_count": 21,
      "outputs": []
    },
    {
      "cell_type": "code",
      "metadata": {
        "id": "BQSBXxMrf82j",
        "colab_type": "code",
        "colab": {},
        "outputId": "4fb9104b-2e58-4dd4-dd44-f2933da34a86"
      },
      "source": [
        "weights_raveld"
      ],
      "execution_count": 22,
      "outputs": [
        {
          "output_type": "execute_result",
          "data": {
            "text/plain": [
              "array([50, 45, 56, 78, 78, 89, 59, 90, 89, 78, 69, 70, 67, 69, 89, 70, 90,\n",
              "       89, 80, 84, 89, 59, 90, 78])"
            ]
          },
          "metadata": {},
          "execution_count": 22
        }
      ]
    },
    {
      "cell_type": "markdown",
      "metadata": {
        "id": "BhMmZu2gf82p",
        "colab_type": "text"
      },
      "source": [
        "Some key differences between flattening and raveling the array are:\n",
        "- `ravel()` function simply returns a flattened view of Numpy array. If you try to modify this view, you will end up with that same changes in the original array. `flatten()` function returns a flattened copy in memory of the array, so that new changes can be made without affecting the original array.\n",
        "- `ravel()` does not occupy memory, being faster than `flatten()`, which occupies memory when copying the flattened objects."
      ]
    },
    {
      "cell_type": "markdown",
      "metadata": {
        "id": "Q4CsNBFlf82q",
        "colab_type": "text"
      },
      "source": [
        "## Exercise 2\n",
        "\n",
        "Create an array of 51 elements starting at 100 and ending at 500, using the two functions `np.linspace()` and `np.arange()`. Arrays must have the same content, with the names `array_lin` and `array_ara`, respectively. Verify that the arrays have the same content with the `np.array_equal()` function."
      ]
    },
    {
      "cell_type": "code",
      "metadata": {
        "id": "LSn5dk22f82r",
        "colab_type": "code",
        "colab": {}
      },
      "source": [
        "array_lin = np.arange(100, 501, 8)\n",
        "array_ara = np.linspace(100, 500, 51)"
      ],
      "execution_count": 43,
      "outputs": []
    },
    {
      "cell_type": "code",
      "execution_count": 44,
      "metadata": {},
      "outputs": [
        {
          "output_type": "stream",
          "name": "stdout",
          "text": [
            "[100 108 116 124 132 140 148 156 164 172 180 188 196 204 212 220 228 236\n 244 252 260 268 276 284 292 300 308 316 324 332 340 348 356 364 372 380\n 388 396 404 412 420 428 436 444 452 460 468 476 484 492 500]\n"
          ]
        }
      ],
      "source": [
        "print(array_lin)"
      ]
    },
    {
      "cell_type": "code",
      "execution_count": 42,
      "metadata": {},
      "outputs": [
        {
          "output_type": "stream",
          "name": "stdout",
          "text": [
            "[100. 108. 116. 124. 132. 140. 148. 156. 164. 172. 180. 188. 196. 204.\n 212. 220. 228. 236. 244. 252. 260. 268. 276. 284. 292. 300. 308. 316.\n 324. 332. 340. 348. 356. 364. 372. 380. 388. 396. 404. 412. 420. 428.\n 436. 444. 452. 460. 468. 476. 484. 492. 500.]\n"
          ]
        }
      ],
      "source": [
        "print(array_ara)"
      ]
    },
    {
      "cell_type": "code",
      "execution_count": 45,
      "metadata": {},
      "outputs": [
        {
          "output_type": "execute_result",
          "data": {
            "text/plain": [
              "True"
            ]
          },
          "metadata": {},
          "execution_count": 45
        }
      ],
      "source": [
        "np.array_equal(array_lin, array_ara)"
      ]
    },
    {
      "cell_type": "markdown",
      "metadata": {
        "id": "7dO7jOTAf82z",
        "colab_type": "text"
      },
      "source": [
        "## 6.Array indexing\n"
      ]
    },
    {
      "cell_type": "markdown",
      "metadata": {
        "id": "EfJeld7nf820",
        "colab_type": "text"
      },
      "source": [
        "To access the content of an array we can use indexing through brackets `[ ]`. When using the brackets, we can access the elements on the list by: \n",
        "1. Using a **positive single index** starting from 0\n",
        "2. Using a **negative single index** starting from -1\n",
        "3. Using **positive index intervals** using the `start:end:step` notation to specify starting and ending values as well as the step.\n",
        "4. Using **negative index intervals** using the `start:end:step` notation to specify negative index starting and ending values as well as the step.\n",
        "\n",
        "Occasionally, we can:\n",
        "- Get ride of the the `step` value as `sart:end`, so that by default we slice the data with a `step` of 1. \n",
        "- Get ride of the `start` value as `:fin:step`, and hence our `start` index will be 0, by default.\n",
        "- Omit the `end` value as `start::step`, specifying the final position as the `end` index by default. \n",
        "- Specify the range as `::step`, and hence the `start` position will be 0 and the end position will be the last one of the array.\n",
        "\n",
        "Let's see how indexing works using the `weights` and `heights_np` arrays:"
      ]
    },
    {
      "cell_type": "code",
      "metadata": {
        "id": "R6RqaHeQf820",
        "colab_type": "code",
        "colab": {},
        "outputId": "050eb92e-c0bd-4b97-d696-4ad68d4da9bf"
      },
      "source": [
        "weights"
      ],
      "execution_count": 24,
      "outputs": [
        {
          "output_type": "execute_result",
          "data": {
            "text/plain": [
              "array([[[50, 45],\n",
              "        [56, 78],\n",
              "        [78, 89],\n",
              "        [59, 90],\n",
              "        [89, 78],\n",
              "        [69, 70]],\n",
              "\n",
              "       [[67, 69],\n",
              "        [89, 70],\n",
              "        [90, 89],\n",
              "        [80, 84],\n",
              "        [89, 59],\n",
              "        [90, 78]]])"
            ]
          },
          "metadata": {},
          "execution_count": 24
        }
      ]
    },
    {
      "cell_type": "code",
      "metadata": {
        "id": "6it2pxt7f828",
        "colab_type": "code",
        "colab": {},
        "outputId": "8644baea-26cc-4ca4-d0e2-ef6d269c9126"
      },
      "source": [
        "weights_or = weights.reshape((6,4))\n",
        "weights_or"
      ],
      "execution_count": 25,
      "outputs": [
        {
          "output_type": "execute_result",
          "data": {
            "text/plain": [
              "array([[50, 45, 56, 78],\n",
              "       [78, 89, 59, 90],\n",
              "       [89, 78, 69, 70],\n",
              "       [67, 69, 89, 70],\n",
              "       [90, 89, 80, 84],\n",
              "       [89, 59, 90, 78]])"
            ]
          },
          "metadata": {},
          "execution_count": 25
        }
      ]
    },
    {
      "cell_type": "code",
      "metadata": {
        "id": "m7UcANUTf83D",
        "colab_type": "code",
        "colab": {},
        "outputId": "43e03a6d-1e4f-42ca-c2f9-7acc2470bced"
      },
      "source": [
        "heights_np"
      ],
      "execution_count": 26,
      "outputs": [
        {
          "output_type": "execute_result",
          "data": {
            "text/plain": [
              "array([165, 170, 171, 180, 189, 178])"
            ]
          },
          "metadata": {},
          "execution_count": 26
        }
      ]
    },
    {
      "cell_type": "markdown",
      "metadata": {
        "id": "VTFMFZL5f83I",
        "colab_type": "text"
      },
      "source": [
        "### 6.1 Using a positive single index"
      ]
    },
    {
      "cell_type": "markdown",
      "metadata": {
        "id": "_q3t7JZIf83I",
        "colab_type": "text"
      },
      "source": [
        "When using positive indexing, it is important to consider the first position of the array to be 0:"
      ]
    },
    {
      "cell_type": "code",
      "metadata": {
        "scrolled": true,
        "id": "ZZRGyvCHf83J",
        "colab_type": "code",
        "colab": {},
        "outputId": "2ad06621-8754-462b-8561-4cb4f0b81f62"
      },
      "source": [
        "print(\"Accessing single element in 1D array:\", heights_np[2])\n",
        "print(\"Accessing single element in 2D array:\", weights_or[1][3])"
      ],
      "execution_count": 46,
      "outputs": [
        {
          "output_type": "stream",
          "name": "stdout",
          "text": [
            "Accessing single element in 1D array: 171\nAccessing single element in 2D array: 90\n"
          ]
        }
      ]
    },
    {
      "cell_type": "code",
      "metadata": {
        "scrolled": false,
        "id": "XKXMVpzFf83N",
        "colab_type": "code",
        "colab": {},
        "outputId": "1c0871e9-0859-4fec-d0c9-b3eda25b4f8d"
      },
      "source": [
        "heights_np[7]"
      ],
      "execution_count": 47,
      "outputs": [
        {
          "output_type": "error",
          "ename": "IndexError",
          "evalue": "index 7 is out of bounds for axis 0 with size 6",
          "traceback": [
            "\u001b[1;31m---------------------------------------------------------------------------\u001b[0m",
            "\u001b[1;31mIndexError\u001b[0m                                Traceback (most recent call last)",
            "\u001b[1;32m<ipython-input-47-c1b0cf84b168>\u001b[0m in \u001b[0;36m<module>\u001b[1;34m\u001b[0m\n\u001b[1;32m----> 1\u001b[1;33m \u001b[0mheights_np\u001b[0m\u001b[1;33m[\u001b[0m\u001b[1;36m7\u001b[0m\u001b[1;33m]\u001b[0m\u001b[1;33m\u001b[0m\u001b[1;33m\u001b[0m\u001b[0m\n\u001b[0m",
            "\u001b[1;31mIndexError\u001b[0m: index 7 is out of bounds for axis 0 with size 6"
          ]
        }
      ]
    },
    {
      "cell_type": "markdown",
      "metadata": {
        "id": "M_49bH1Ff83T",
        "colab_type": "text"
      },
      "source": [
        "**Why are we getting this error message?**\n",
        "\n",
        "Well guessed! It is because position 7 does not exist in the `heights_np` array, it is totally out of the bounds defined by the array's shape and size. The array has 6 elements, the last element being in position 5."
      ]
    },
    {
      "cell_type": "markdown",
      "metadata": {
        "id": "rNyg6F4Rf83U",
        "colab_type": "text"
      },
      "source": [
        "### 6.2 Using a negative single index starting"
      ]
    },
    {
      "cell_type": "markdown",
      "metadata": {
        "id": "Lko0mS4tf83V",
        "colab_type": "text"
      },
      "source": [
        "When using negative indexing, it is important to consider the last position of the array to be -1:"
      ]
    },
    {
      "cell_type": "code",
      "metadata": {
        "scrolled": true,
        "id": "_N3rC53qf83V",
        "colab_type": "code",
        "colab": {},
        "outputId": "1431593b-6daa-4053-b995-79fedc737e4c"
      },
      "source": [
        "print(\"Accessing single element in 1D array:\", heights_np[-4])\n",
        "print(\"Accessing single element in 2D array:\", weights_or[-5][-1])"
      ],
      "execution_count": null,
      "outputs": [
        {
          "output_type": "stream",
          "text": [
            "Accessing single element in 1D array: 171\n",
            "Accessing single element in 2D array: 90\n"
          ],
          "name": "stdout"
        }
      ]
    },
    {
      "cell_type": "code",
      "metadata": {
        "scrolled": true,
        "id": "azkGg-arf83d",
        "colab_type": "code",
        "colab": {},
        "outputId": "7cccdad9-4c4c-4041-fd01-70576d11b77e"
      },
      "source": [
        "heights_np[-8]"
      ],
      "execution_count": null,
      "outputs": [
        {
          "output_type": "error",
          "ename": "IndexError",
          "evalue": "index -8 is out of bounds for axis 0 with size 6",
          "traceback": [
            "\u001b[1;31m---------------------------------------------------------------------------\u001b[0m",
            "\u001b[1;31mIndexError\u001b[0m                                Traceback (most recent call last)",
            "\u001b[1;32m<ipython-input-127-7c81311360da>\u001b[0m in \u001b[0;36m<module>\u001b[1;34m\u001b[0m\n\u001b[1;32m----> 1\u001b[1;33m \u001b[0mheights_np\u001b[0m\u001b[1;33m[\u001b[0m\u001b[1;33m-\u001b[0m\u001b[1;36m8\u001b[0m\u001b[1;33m]\u001b[0m\u001b[1;33m\u001b[0m\u001b[1;33m\u001b[0m\u001b[0m\n\u001b[0m",
            "\u001b[1;31mIndexError\u001b[0m: index -8 is out of bounds for axis 0 with size 6"
          ]
        }
      ]
    },
    {
      "cell_type": "markdown",
      "metadata": {
        "id": "LD9Pb-nIf83j",
        "colab_type": "text"
      },
      "source": [
        "**Why are we getting this error message again?**\n",
        "\n",
        "Well guessed! It is because position -8 does not exist in the `heights_np` array, it is totally out of the bounds defined by the array's shape and size. The array has 6 elements, the last element being in position -1 and the first element being in position -6."
      ]
    },
    {
      "cell_type": "markdown",
      "metadata": {
        "id": "F1c5rQ_ef83k",
        "colab_type": "text"
      },
      "source": [
        "### 6.3 Using positive index intervals"
      ]
    },
    {
      "cell_type": "markdown",
      "metadata": {
        "id": "kXaJXj4zf83m",
        "colab_type": "text"
      },
      "source": [
        "When using positive interval indexing `start:end:step`, the starting value is inclusive and the ending value is exlusive. Here are somoe examples:"
      ]
    },
    {
      "cell_type": "code",
      "metadata": {
        "id": "hCsVNSyyf83n",
        "colab_type": "code",
        "colab": {},
        "outputId": "b08405e7-e263-4a78-d1ec-eeb04be06cc1"
      },
      "source": [
        "heights_np[:2] # The default start value is 0"
      ],
      "execution_count": null,
      "outputs": [
        {
          "output_type": "execute_result",
          "data": {
            "text/plain": [
              "array([165, 170])"
            ]
          },
          "metadata": {
            "tags": []
          },
          "execution_count": 103
        }
      ]
    },
    {
      "cell_type": "code",
      "metadata": {
        "id": "YFgC96dqf83z",
        "colab_type": "code",
        "colab": {},
        "outputId": "ebf8d120-e588-4470-bbf1-3e7cb4d9e7ba"
      },
      "source": [
        "heights_np[2:] # The default end value is the last value of the array"
      ],
      "execution_count": null,
      "outputs": [
        {
          "output_type": "execute_result",
          "data": {
            "text/plain": [
              "array([171, 180, 189, 178])"
            ]
          },
          "metadata": {
            "tags": []
          },
          "execution_count": 104
        }
      ]
    },
    {
      "cell_type": "code",
      "metadata": {
        "id": "EGOLN-51f836",
        "colab_type": "code",
        "colab": {},
        "outputId": "2c89e03f-4439-45e7-df14-8ede84317017"
      },
      "source": [
        "heights_np[2:3] # The ending value is exlusive"
      ],
      "execution_count": null,
      "outputs": [
        {
          "output_type": "execute_result",
          "data": {
            "text/plain": [
              "array([171])"
            ]
          },
          "metadata": {
            "tags": []
          },
          "execution_count": 102
        }
      ]
    },
    {
      "cell_type": "code",
      "metadata": {
        "id": "0ZwwWaqaf84A",
        "colab_type": "code",
        "colab": {},
        "outputId": "6406c4a5-3348-482c-b3e7-9e818a6ec2dd"
      },
      "source": [
        "weights[:2, ::2]"
      ],
      "execution_count": null,
      "outputs": [
        {
          "output_type": "execute_result",
          "data": {
            "text/plain": [
              "array([[[50, 45],\n",
              "        [78, 89],\n",
              "        [89, 78]],\n",
              "\n",
              "       [[67, 69],\n",
              "        [90, 89],\n",
              "        [89, 59]]])"
            ]
          },
          "metadata": {
            "tags": []
          },
          "execution_count": 94
        }
      ]
    },
    {
      "cell_type": "code",
      "metadata": {
        "id": "fR-sTpfxf84F",
        "colab_type": "code",
        "colab": {},
        "outputId": "cdec3a69-b76a-47a8-c2ca-421fbb84e8eb"
      },
      "source": [
        "weights[:3, 3::]"
      ],
      "execution_count": null,
      "outputs": [
        {
          "output_type": "execute_result",
          "data": {
            "text/plain": [
              "array([[[59, 90],\n",
              "        [89, 78],\n",
              "        [69, 70]],\n",
              "\n",
              "       [[80, 84],\n",
              "        [89, 59],\n",
              "        [90, 78]]])"
            ]
          },
          "metadata": {
            "tags": []
          },
          "execution_count": 95
        }
      ]
    },
    {
      "cell_type": "code",
      "metadata": {
        "id": "y0ln4GDSf84L",
        "colab_type": "code",
        "colab": {},
        "outputId": "3c9d2d49-cb71-48a1-bee5-a85ab44d796d"
      },
      "source": [
        "weights[:3, :3, :1]"
      ],
      "execution_count": null,
      "outputs": [
        {
          "output_type": "execute_result",
          "data": {
            "text/plain": [
              "array([[[50],\n",
              "        [56],\n",
              "        [78]],\n",
              "\n",
              "       [[67],\n",
              "        [89],\n",
              "        [90]]])"
            ]
          },
          "metadata": {
            "tags": []
          },
          "execution_count": 96
        }
      ]
    },
    {
      "cell_type": "markdown",
      "metadata": {
        "id": "MKctH8ahf84O",
        "colab_type": "text"
      },
      "source": [
        "### 6.4 Using negative index intervals"
      ]
    },
    {
      "cell_type": "markdown",
      "metadata": {
        "id": "0YDVe-Xbf84P",
        "colab_type": "text"
      },
      "source": [
        "When using positive interval indexing `start:end:step`, the negative starting value is inclusive and the negative ending value is exlusive. Here are somoe examples:"
      ]
    },
    {
      "cell_type": "code",
      "metadata": {
        "id": "oq8ENq2qf84Q",
        "colab_type": "code",
        "colab": {},
        "outputId": "6178ef4b-0be8-4108-e49e-ae2f18edf592"
      },
      "source": [
        "heights_np[:-4] # Equivalent to heights_np[:2]"
      ],
      "execution_count": null,
      "outputs": [
        {
          "output_type": "execute_result",
          "data": {
            "text/plain": [
              "array([165, 170])"
            ]
          },
          "metadata": {
            "tags": []
          },
          "execution_count": 106
        }
      ]
    },
    {
      "cell_type": "code",
      "metadata": {
        "id": "O-8PkOlnf84U",
        "colab_type": "code",
        "colab": {},
        "outputId": "dfcd0cb5-08b5-4d98-948b-03271b78a960"
      },
      "source": [
        "heights_np[-4:] # Equivalent to heights_np[2:]"
      ],
      "execution_count": null,
      "outputs": [
        {
          "output_type": "execute_result",
          "data": {
            "text/plain": [
              "array([171, 180, 189, 178])"
            ]
          },
          "metadata": {
            "tags": []
          },
          "execution_count": 108
        }
      ]
    },
    {
      "cell_type": "code",
      "metadata": {
        "id": "xZlV59E7f84a",
        "colab_type": "code",
        "colab": {},
        "outputId": "47c900ad-61c7-4d79-95b9-ca4e4246116a"
      },
      "source": [
        "heights_np[-4:-3] # Equivalent to heights_np[2:3]"
      ],
      "execution_count": null,
      "outputs": [
        {
          "output_type": "execute_result",
          "data": {
            "text/plain": [
              "array([171])"
            ]
          },
          "metadata": {
            "tags": []
          },
          "execution_count": 109
        }
      ]
    },
    {
      "cell_type": "code",
      "metadata": {
        "id": "nTNK-4kCf84f",
        "colab_type": "code",
        "colab": {},
        "outputId": "216ee7ef-cb80-4f79-d8ea-212ae41ea4d9"
      },
      "source": [
        "weights[:2, -3::] # Equivalent to weights[:3, 3::]"
      ],
      "execution_count": null,
      "outputs": [
        {
          "output_type": "execute_result",
          "data": {
            "text/plain": [
              "array([[[59, 90],\n",
              "        [89, 78],\n",
              "        [69, 70]],\n",
              "\n",
              "       [[80, 84],\n",
              "        [89, 59],\n",
              "        [90, 78]]])"
            ]
          },
          "metadata": {
            "tags": []
          },
          "execution_count": 119
        }
      ]
    },
    {
      "cell_type": "code",
      "metadata": {
        "scrolled": true,
        "id": "B5BrubFYf84n",
        "colab_type": "code",
        "colab": {},
        "outputId": "2fab3a31-2110-42ad-b325-fd082690c39a"
      },
      "source": [
        "weights[:3, :-3, :-1] # Equivalent to weights[:3, :3, :1]"
      ],
      "execution_count": null,
      "outputs": [
        {
          "output_type": "execute_result",
          "data": {
            "text/plain": [
              "array([[[50],\n",
              "        [56],\n",
              "        [78]],\n",
              "\n",
              "       [[67],\n",
              "        [89],\n",
              "        [90]]])"
            ]
          },
          "metadata": {
            "tags": []
          },
          "execution_count": 122
        }
      ]
    },
    {
      "cell_type": "markdown",
      "metadata": {
        "id": "XQrlx6_sf84s",
        "colab_type": "text"
      },
      "source": [
        "## Exercise 3\n",
        "\n",
        "Consider the `weights_or` array:\n",
        "\n",
        "1. Select all the values that are in the even positions in the rows and in the odd positions in the columns. Create a new array named `weights_custom1` with these values.\n",
        "2. Express the `weights_custom1` array flattened with an in-memory copy. Call the new array `weights_custom2`.\n",
        "3. Select items in positions 2 to 4 inclusive with negative indexing. Name the output array as `weights_custom3`."
      ]
    },
    {
      "cell_type": "code",
      "execution_count": 51,
      "metadata": {},
      "outputs": [
        {
          "output_type": "execute_result",
          "data": {
            "text/plain": [
              "array([[50, 45, 56, 78],\n",
              "       [78, 89, 59, 90],\n",
              "       [89, 78, 69, 70],\n",
              "       [67, 69, 89, 70],\n",
              "       [90, 89, 80, 84],\n",
              "       [89, 59, 90, 78]])"
            ]
          },
          "metadata": {},
          "execution_count": 51
        }
      ],
      "source": [
        "weights_or"
      ]
    },
    {
      "cell_type": "code",
      "metadata": {
        "id": "LDS6TnWAf84t",
        "colab_type": "code",
        "colab": {}
      },
      "source": [
        "# Answer #1\n",
        "weights_custom1 = weights_or[1::2, 0::2]"
      ],
      "execution_count": 57,
      "outputs": []
    },
    {
      "cell_type": "code",
      "metadata": {
        "id": "_EKlk8_cf848",
        "colab_type": "code",
        "colab": {}
      },
      "source": [
        "# Answer #2\n",
        "weights_custom2 = weights_custom1.flatten()\n",
        "print(weights_custom2)"
      ],
      "execution_count": 63,
      "outputs": [
        {
          "output_type": "stream",
          "name": "stdout",
          "text": [
            "[78 59 67 89 89 90]\n"
          ]
        }
      ]
    },
    {
      "cell_type": "code",
      "metadata": {
        "id": "HyZRw1rUf85C",
        "colab_type": "code",
        "colab": {}
      },
      "source": [
        "# Answer #3\n",
        "weights_custom3 = weights_custom2[-5:-2]\n",
        "print(weights_custom3)"
      ],
      "execution_count": 65,
      "outputs": [
        {
          "output_type": "stream",
          "name": "stdout",
          "text": [
            "[59 67 89]\n"
          ]
        }
      ]
    },
    {
      "cell_type": "markdown",
      "metadata": {
        "id": "4fQJHzwsf85n",
        "colab_type": "text"
      },
      "source": [
        "## 7.Manipulating `Numpy` arrays\n"
      ]
    },
    {
      "cell_type": "markdown",
      "metadata": {
        "id": "9WGWmaLZf85p",
        "colab_type": "text"
      },
      "source": [
        "Arrays can be manipulated using arithmetic, logical, or relational operations in an element-wise way. Let's see how these operations are applied, using our arrays `weights_or`, `heights_np`, and and some other arrays that we will create."
      ]
    },
    {
      "cell_type": "markdown",
      "metadata": {
        "id": "5mza7Wgaf85v",
        "colab_type": "text"
      },
      "source": [
        "### 7.1. Arithmetic operations"
      ]
    },
    {
      "cell_type": "markdown",
      "metadata": {
        "id": "ElxXQWhPf85w",
        "colab_type": "text"
      },
      "source": [
        "We are going to operate the content of the arrays with the four traditional arithmetic operations, addition, subtraction, product, and division. Let's first define our arrays again:"
      ]
    },
    {
      "cell_type": "code",
      "metadata": {
        "id": "lxJON3TPf85x",
        "colab_type": "code",
        "colab": {},
        "outputId": "1f918011-f70c-42f4-daca-b860f3a9b83e"
      },
      "source": [
        "weights_or"
      ],
      "execution_count": 66,
      "outputs": [
        {
          "output_type": "execute_result",
          "data": {
            "text/plain": [
              "array([[50, 45, 56, 78],\n",
              "       [78, 89, 59, 90],\n",
              "       [89, 78, 69, 70],\n",
              "       [67, 69, 89, 70],\n",
              "       [90, 89, 80, 84],\n",
              "       [89, 59, 90, 78]])"
            ]
          },
          "metadata": {},
          "execution_count": 66
        }
      ]
    },
    {
      "cell_type": "code",
      "metadata": {
        "id": "Y7BUpy43f858",
        "colab_type": "code",
        "colab": {},
        "outputId": "ad2f03cc-3173-4c30-d527-5d05265dad2a"
      },
      "source": [
        "heights_2 = np.array([165, 175, 180, 189, 187, 186])\n",
        "print('heights_np:', heights_np) \n",
        "print('heights_2: ', heights_2)"
      ],
      "execution_count": 71,
      "outputs": [
        {
          "output_type": "stream",
          "name": "stdout",
          "text": [
            "heights_np: [165 170 171 180 189 178]\nheights_2:  [165 175 180 189 187 186]\n"
          ]
        }
      ]
    },
    {
      "cell_type": "markdown",
      "metadata": {
        "id": "pDtrCG6Nf86B",
        "colab_type": "text"
      },
      "source": [
        "Let's add the content of the two arrays element-wise:"
      ]
    },
    {
      "cell_type": "code",
      "metadata": {
        "id": "zEqt6dsXf86C",
        "colab_type": "code",
        "colab": {},
        "outputId": "9cb9a64b-60ec-4d8b-ec23-e1ec477140f8"
      },
      "source": [
        "heights_add = heights_np + heights_2\n",
        "heights_add"
      ],
      "execution_count": 68,
      "outputs": [
        {
          "output_type": "execute_result",
          "data": {
            "text/plain": [
              "array([330, 345, 351, 369, 376, 364])"
            ]
          },
          "metadata": {},
          "execution_count": 68
        }
      ]
    },
    {
      "cell_type": "markdown",
      "metadata": {
        "id": "uGovxy2Lf86O",
        "colab_type": "text"
      },
      "source": [
        "The `np.add()` function allows adding the content of arrays element-wise:"
      ]
    },
    {
      "cell_type": "code",
      "metadata": {
        "id": "M52rnmGcf86P",
        "colab_type": "code",
        "colab": {},
        "outputId": "a2930bc3-5cdd-4d2c-c337-18df86cd52cc"
      },
      "source": [
        "added = np.add(heights_2, heights_np)\n",
        "added"
      ],
      "execution_count": 69,
      "outputs": [
        {
          "output_type": "execute_result",
          "data": {
            "text/plain": [
              "array([330, 345, 351, 369, 376, 364])"
            ]
          },
          "metadata": {},
          "execution_count": 69
        }
      ]
    },
    {
      "cell_type": "markdown",
      "metadata": {
        "id": "cxq-GcGNf86X",
        "colab_type": "text"
      },
      "source": [
        "## Exercise 4\n",
        "\n",
        "Since we have seen how to add element-wise elements of one-dimensional arrays:\n",
        "1. Calculate the subtraction, multiplication and division between the `heights_np` and `heights_2` arrays. Compare the results by using the functions: `np.subtract()`, `np.multiply()`, and `np.divide()`.\n",
        "2. Calculate the product element-wise of the multiplicative inverses ($1/x$) between the arrays `heights_np` and `heights_2`, using numpy functions. For instante, if an element in `heights_np` $x1=5$ and an element in `heights_2` $y1=4$, then the result should be $z=(1/x1)*(1/y1)=1/20=0.05$."
      ]
    },
    {
      "cell_type": "code",
      "metadata": {
        "id": "IVlcdzS2f86Z",
        "colab_type": "code",
        "colab": {}
      },
      "source": [
        "# Answer substraction\n",
        "np.subtract(heights_np, heights_2)"
      ],
      "execution_count": 84,
      "outputs": [
        {
          "output_type": "execute_result",
          "data": {
            "text/plain": [
              "array([ 0, -5, -9, -9,  2, -8])"
            ]
          },
          "metadata": {},
          "execution_count": 84
        }
      ]
    },
    {
      "cell_type": "code",
      "execution_count": 77,
      "metadata": {},
      "outputs": [
        {
          "output_type": "execute_result",
          "data": {
            "text/plain": [
              "array([ 0, -5, -9, -9,  2, -8])"
            ]
          },
          "metadata": {},
          "execution_count": 77
        }
      ],
      "source": [
        "heights_np - heights_2"
      ]
    },
    {
      "cell_type": "code",
      "metadata": {
        "id": "OnMnWaHYf86i",
        "colab_type": "code",
        "colab": {}
      },
      "source": [
        "# Answer multiplication"
      ],
      "execution_count": null,
      "outputs": []
    },
    {
      "cell_type": "code",
      "metadata": {
        "id": "odwi7RKWf86p",
        "colab_type": "code",
        "colab": {}
      },
      "source": [
        "# Answer division\n",
        "np.divide(1,heights_np) * np.divide(1, heights_2)"
      ],
      "execution_count": 75,
      "outputs": [
        {
          "output_type": "execute_result",
          "data": {
            "text/plain": [
              "array([3.67309458e-05, 3.36134454e-05, 3.24886290e-05, 2.93944738e-05,\n",
              "       2.82941459e-05, 3.02041803e-05])"
            ]
          },
          "metadata": {},
          "execution_count": 75
        }
      ]
    },
    {
      "cell_type": "code",
      "metadata": {
        "id": "zxpXd64Pf86t",
        "colab_type": "code",
        "colab": {}
      },
      "source": [
        "# Answer multiplicative inverse"
      ],
      "execution_count": null,
      "outputs": []
    },
    {
      "cell_type": "markdown",
      "metadata": {
        "id": "4IZrRPhaf86z",
        "colab_type": "text"
      },
      "source": [
        "### 7.2. Logical operations"
      ]
    },
    {
      "cell_type": "markdown",
      "metadata": {
        "id": "2GMYJb9tf86z",
        "colab_type": "text"
      },
      "source": [
        "Logical operations are mathematical expressions whose result is a Boolean value of 0 (False) or 1 (True). Among the most common logical operations are the disjunction `or`, conjunction `and`, and negation `not`operations, among others. Let's see an example:"
      ]
    },
    {
      "cell_type": "code",
      "metadata": {
        "id": "73iJ3Fa-f861",
        "colab_type": "code",
        "colab": {}
      },
      "source": [
        "x = np.array([True, True, False, False])\n",
        "y = np.array([True, False, True, False])"
      ],
      "execution_count": null,
      "outputs": []
    },
    {
      "cell_type": "code",
      "metadata": {
        "id": "twei5wfUf865",
        "colab_type": "code",
        "colab": {},
        "outputId": "56be3b0e-f101-487a-d993-2c1d6707708b"
      },
      "source": [
        "np.logical_or(x,y)"
      ],
      "execution_count": null,
      "outputs": [
        {
          "output_type": "execute_result",
          "data": {
            "text/plain": [
              "array([ True,  True,  True, False])"
            ]
          },
          "metadata": {
            "tags": []
          },
          "execution_count": 165
        }
      ]
    },
    {
      "cell_type": "code",
      "metadata": {
        "id": "s3CAf5OAf869",
        "colab_type": "code",
        "colab": {},
        "outputId": "616c1bec-5708-4262-914e-001005304057"
      },
      "source": [
        "np.logical_and(x,y)"
      ],
      "execution_count": null,
      "outputs": [
        {
          "output_type": "execute_result",
          "data": {
            "text/plain": [
              "array([ True, False, False, False])"
            ]
          },
          "metadata": {
            "tags": []
          },
          "execution_count": 166
        }
      ]
    },
    {
      "cell_type": "code",
      "metadata": {
        "id": "R1xywrYjf87C",
        "colab_type": "code",
        "colab": {},
        "outputId": "6e5d7854-3973-4b01-b1ee-18f6c56f1cf0"
      },
      "source": [
        "np.logical_not(x)"
      ],
      "execution_count": null,
      "outputs": [
        {
          "output_type": "execute_result",
          "data": {
            "text/plain": [
              "array([False, False,  True,  True])"
            ]
          },
          "metadata": {
            "tags": []
          },
          "execution_count": 167
        }
      ]
    },
    {
      "cell_type": "markdown",
      "metadata": {
        "id": "eEOFfrmhf87E",
        "colab_type": "text"
      },
      "source": [
        "### 7.3.Comparison - Relational operators"
      ]
    },
    {
      "cell_type": "markdown",
      "metadata": {
        "id": "3MfycNFPf87F",
        "colab_type": "text"
      },
      "source": [
        "The comparison operators allow us to compare the values of the content of `numpy` arrays element-wise. Some operators of interest (a) equality operator `np.equal()`, (b) less than operator `np.less()`/`np.less_equal()`, (c) greater than operator `np.greater()`/`np.greater_equal()`, and (d) difference operator `np.not_equal()`. It is important to note that the output will always be Boolean 0 (False) or 1 (True).\n",
        "\n",
        "Let's see some examples:"
      ]
    },
    {
      "cell_type": "code",
      "metadata": {
        "id": "tkVsUowMf87F",
        "colab_type": "code",
        "colab": {}
      },
      "source": [
        "x = np.array([1, 8, 3, 7, 3, 21])\n",
        "y = np.array([4, 8, 1, 7, 6, 9])"
      ],
      "execution_count": null,
      "outputs": []
    },
    {
      "cell_type": "code",
      "metadata": {
        "id": "xUtFfWvrf87H",
        "colab_type": "code",
        "colab": {},
        "outputId": "8b237df8-63bb-4b47-938f-a65dc61fe2ad"
      },
      "source": [
        "np.equal(x,y)"
      ],
      "execution_count": null,
      "outputs": [
        {
          "output_type": "execute_result",
          "data": {
            "text/plain": [
              "array([False,  True, False,  True, False, False])"
            ]
          },
          "metadata": {
            "tags": []
          },
          "execution_count": 175
        }
      ]
    },
    {
      "cell_type": "code",
      "metadata": {
        "id": "uRXU49WWf87K",
        "colab_type": "code",
        "colab": {},
        "outputId": "28f9b2fb-04cc-447f-ddba-9fb6989b087b"
      },
      "source": [
        "np.not_equal(x,y)"
      ],
      "execution_count": null,
      "outputs": [
        {
          "output_type": "execute_result",
          "data": {
            "text/plain": [
              "array([ True, False,  True, False,  True,  True])"
            ]
          },
          "metadata": {
            "tags": []
          },
          "execution_count": 179
        }
      ]
    },
    {
      "cell_type": "code",
      "metadata": {
        "id": "Q3WKZKrBf87U",
        "colab_type": "code",
        "colab": {},
        "outputId": "b69a5dc4-fb59-41f6-f5b2-e44a4c262650"
      },
      "source": [
        "np.less_equal(x,y)"
      ],
      "execution_count": null,
      "outputs": [
        {
          "output_type": "execute_result",
          "data": {
            "text/plain": [
              "array([ True,  True, False,  True,  True, False])"
            ]
          },
          "metadata": {
            "tags": []
          },
          "execution_count": 177
        }
      ]
    },
    {
      "cell_type": "code",
      "metadata": {
        "id": "kY5zDfGcf87Y",
        "colab_type": "code",
        "colab": {},
        "outputId": "1e92b8d6-611b-4d25-bb9a-325ecc9edc2b"
      },
      "source": [
        "np.greater_equal(x,y)"
      ],
      "execution_count": null,
      "outputs": [
        {
          "output_type": "execute_result",
          "data": {
            "text/plain": [
              "array([False,  True,  True,  True, False,  True])"
            ]
          },
          "metadata": {
            "tags": []
          },
          "execution_count": 178
        }
      ]
    },
    {
      "cell_type": "code",
      "metadata": {
        "id": "bD8ekMQdf87d",
        "colab_type": "code",
        "colab": {},
        "outputId": "35b0f4ac-bb60-4673-e22e-efe42061a8f8"
      },
      "source": [
        "np.array_equal(x,y) # Comparing the entire content of both arrays"
      ],
      "execution_count": null,
      "outputs": [
        {
          "output_type": "execute_result",
          "data": {
            "text/plain": [
              "False"
            ]
          },
          "metadata": {
            "tags": []
          },
          "execution_count": 180
        }
      ]
    },
    {
      "cell_type": "code",
      "metadata": {
        "id": "H5HM9fzkf87h",
        "colab_type": "code",
        "colab": {},
        "outputId": "5e3ad8e6-8b00-435f-a987-07d445f9aa1a"
      },
      "source": [
        "x = np.array([1, 8, 3, 7, 3, 21])\n",
        "y = np.array(list((1, 8, 3, 7, 3, 21)))\n",
        "np.array_equal(x,y) # Comparing the entire content of both arrays"
      ],
      "execution_count": null,
      "outputs": [
        {
          "output_type": "execute_result",
          "data": {
            "text/plain": [
              "True"
            ]
          },
          "metadata": {
            "tags": []
          },
          "execution_count": 182
        }
      ]
    },
    {
      "cell_type": "markdown",
      "metadata": {
        "id": "fLS5wApRf87o",
        "colab_type": "text"
      },
      "source": [
        "## 8. Broadcasting"
      ]
    },
    {
      "cell_type": "markdown",
      "metadata": {
        "id": "-Vc5-Jnnf87o",
        "colab_type": "text"
      },
      "source": [
        "`numpy` has the ability of operating arrays of different shapes during arithmetic operations using **broadcasting**, so that arithmetic operations on arrays are done on corresponding elements. The boradcasting operation replicates one of the arrays along the dimensions the other, if there is a mismatch of shapes. Consider the following arrays:"
      ]
    },
    {
      "cell_type": "code",
      "metadata": {
        "id": "fgXXgRfWf87p",
        "colab_type": "code",
        "colab": {},
        "outputId": "cff0f376-d14d-464b-937d-89d83a7cbe2b"
      },
      "source": [
        "heights_np = heights_np.reshape((6,1))\n",
        "heights_np"
      ],
      "execution_count": 85,
      "outputs": [
        {
          "output_type": "execute_result",
          "data": {
            "text/plain": [
              "array([[165],\n",
              "       [170],\n",
              "       [171],\n",
              "       [180],\n",
              "       [189],\n",
              "       [178]])"
            ]
          },
          "metadata": {},
          "execution_count": 85
        }
      ]
    },
    {
      "cell_type": "code",
      "metadata": {
        "id": "uyDE32FWf87x",
        "colab_type": "code",
        "colab": {},
        "outputId": "e8da2763-86df-41f2-f391-4e921a756b3b"
      },
      "source": [
        "weights"
      ],
      "execution_count": 86,
      "outputs": [
        {
          "output_type": "execute_result",
          "data": {
            "text/plain": [
              "array([[[50, 45],\n",
              "        [56, 78],\n",
              "        [78, 89],\n",
              "        [59, 90],\n",
              "        [89, 78],\n",
              "        [69, 70]],\n",
              "\n",
              "       [[67, 69],\n",
              "        [89, 70],\n",
              "        [90, 89],\n",
              "        [80, 84],\n",
              "        [89, 59],\n",
              "        [90, 78]]])"
            ]
          },
          "metadata": {},
          "execution_count": 86
        }
      ]
    },
    {
      "cell_type": "markdown",
      "metadata": {
        "id": "mQmM6Q7yf870",
        "colab_type": "text"
      },
      "source": [
        "We are going to add the elements of both arrays:"
      ]
    },
    {
      "cell_type": "code",
      "metadata": {
        "id": "VCu2iGPMf871",
        "colab_type": "code",
        "colab": {},
        "outputId": "367a4841-049b-4dd2-c4dc-49e2bda6949c"
      },
      "source": [
        "broad_np = heights_np + weights\n",
        "broad_np"
      ],
      "execution_count": 87,
      "outputs": [
        {
          "output_type": "execute_result",
          "data": {
            "text/plain": [
              "array([[[215, 210],\n",
              "        [226, 248],\n",
              "        [249, 260],\n",
              "        [239, 270],\n",
              "        [278, 267],\n",
              "        [247, 248]],\n",
              "\n",
              "       [[232, 234],\n",
              "        [259, 240],\n",
              "        [261, 260],\n",
              "        [260, 264],\n",
              "        [278, 248],\n",
              "        [268, 256]]])"
            ]
          },
          "metadata": {},
          "execution_count": 87
        }
      ]
    },
    {
      "cell_type": "markdown",
      "metadata": {
        "id": "OjvMdK5Xf875",
        "colab_type": "text"
      },
      "source": [
        "Although the arrays have different dimensions, `numpy` makes a sum for the corresponding elements in common rows and columns, in such a way that the elements of the column vector `heights_np` are added with each column of the two-dimensional vector `weights`.\n",
        "\n",
        "Let's look at one more example:"
      ]
    },
    {
      "cell_type": "code",
      "metadata": {
        "id": "fZdEzysff876",
        "colab_type": "code",
        "colab": {}
      },
      "source": [
        "x = np.ones((3,4))\n",
        "y = np.random.random((5,1,4))"
      ],
      "execution_count": null,
      "outputs": []
    },
    {
      "cell_type": "code",
      "metadata": {
        "id": "uRcAROTYf879",
        "colab_type": "code",
        "colab": {},
        "outputId": "3df28d8d-b9ef-4a02-97a9-475f1b6d5559"
      },
      "source": [
        "x"
      ],
      "execution_count": null,
      "outputs": [
        {
          "output_type": "execute_result",
          "data": {
            "text/plain": [
              "array([[1., 1., 1., 1.],\n",
              "       [1., 1., 1., 1.],\n",
              "       [1., 1., 1., 1.]])"
            ]
          },
          "metadata": {
            "tags": []
          },
          "execution_count": 191
        }
      ]
    },
    {
      "cell_type": "code",
      "metadata": {
        "id": "uz4cNW4yf88I",
        "colab_type": "code",
        "colab": {},
        "outputId": "65c9a57e-b568-42f8-eb6e-5e758033e369"
      },
      "source": [
        "y"
      ],
      "execution_count": null,
      "outputs": [
        {
          "output_type": "execute_result",
          "data": {
            "text/plain": [
              "array([[[0.01936696, 0.67883553, 0.21162812, 0.26554666]],\n",
              "\n",
              "       [[0.49157316, 0.05336255, 0.57411761, 0.14672857]],\n",
              "\n",
              "       [[0.58930554, 0.69975836, 0.10233443, 0.41405599]],\n",
              "\n",
              "       [[0.69440016, 0.41417927, 0.04995346, 0.53589641]],\n",
              "\n",
              "       [[0.66379465, 0.51488911, 0.94459476, 0.58655504]]])"
            ]
          },
          "metadata": {
            "tags": []
          },
          "execution_count": 192
        }
      ]
    },
    {
      "cell_type": "code",
      "metadata": {
        "id": "lAVevw1of88R",
        "colab_type": "code",
        "colab": {},
        "outputId": "e18b590b-12b4-411c-fd9d-d567d151319b"
      },
      "source": [
        "z = x + y\n",
        "z"
      ],
      "execution_count": null,
      "outputs": [
        {
          "output_type": "execute_result",
          "data": {
            "text/plain": [
              "array([[[1.01936696, 1.67883553, 1.21162812, 1.26554666],\n",
              "        [1.01936696, 1.67883553, 1.21162812, 1.26554666],\n",
              "        [1.01936696, 1.67883553, 1.21162812, 1.26554666]],\n",
              "\n",
              "       [[1.49157316, 1.05336255, 1.57411761, 1.14672857],\n",
              "        [1.49157316, 1.05336255, 1.57411761, 1.14672857],\n",
              "        [1.49157316, 1.05336255, 1.57411761, 1.14672857]],\n",
              "\n",
              "       [[1.58930554, 1.69975836, 1.10233443, 1.41405599],\n",
              "        [1.58930554, 1.69975836, 1.10233443, 1.41405599],\n",
              "        [1.58930554, 1.69975836, 1.10233443, 1.41405599]],\n",
              "\n",
              "       [[1.69440016, 1.41417927, 1.04995346, 1.53589641],\n",
              "        [1.69440016, 1.41417927, 1.04995346, 1.53589641],\n",
              "        [1.69440016, 1.41417927, 1.04995346, 1.53589641]],\n",
              "\n",
              "       [[1.66379465, 1.51488911, 1.94459476, 1.58655504],\n",
              "        [1.66379465, 1.51488911, 1.94459476, 1.58655504],\n",
              "        [1.66379465, 1.51488911, 1.94459476, 1.58655504]]])"
            ]
          },
          "metadata": {
            "tags": []
          },
          "execution_count": 193
        }
      ]
    },
    {
      "cell_type": "markdown",
      "metadata": {
        "id": "gveruh19f88W",
        "colab_type": "text"
      },
      "source": [
        "Here each row in array `y` has been paired with rows in array `x`, since they have the same amount of column. The result is an array with triple the rows of array `y` and the same number of columns."
      ]
    },
    {
      "cell_type": "markdown",
      "metadata": {
        "id": "A7-1g-4nf88X",
        "colab_type": "text"
      },
      "source": [
        "## Exercise 5\n",
        "\n",
        "Propose an array `y` such that the operation $x + y$ results in the array `z`.\n",
        "```\n",
        "x = [[14, 15, 18],\n",
        "    [62, 90, 98],\n",
        "    [71, 73, 90],\n",
        "    [40, 24, 17],\n",
        "    [11, 81, 14],\n",
        "    [26, 81, 31]]\n",
        "\n",
        "z = [[24,  40,  58],\n",
        "    [72, 115, 138],\n",
        "    [81,  98, 130],\n",
        "    [50,  49,  57],\n",
        "    [21, 106,  54],\n",
        "    [36, 106,  71]]\n",
        "```"
      ]
    },
    {
      "cell_type": "code",
      "metadata": {
        "id": "MDxjJAjAf88X",
        "colab_type": "code",
        "colab": {}
      },
      "source": [
        "y = np.array([10, 25, 40])\r\n",
        "\r\n",
        "x = np.array([[14, 15, 18],\r\n",
        "    [62, 90, 98],\r\n",
        "    [71, 73, 90],\r\n",
        "    [40, 24, 17],\r\n",
        "    [11, 81, 14],\r\n",
        "    [26, 81, 31]])\r\n",
        "\r\n",
        "y + x"
      ],
      "execution_count": 100,
      "outputs": [
        {
          "output_type": "execute_result",
          "data": {
            "text/plain": [
              "array([[ 24,  40,  58],\n",
              "       [ 72, 115, 138],\n",
              "       [ 81,  98, 130],\n",
              "       [ 50,  49,  57],\n",
              "       [ 21, 106,  54],\n",
              "       [ 36, 106,  71]])"
            ]
          },
          "metadata": {},
          "execution_count": 100
        }
      ]
    },
    {
      "cell_type": "markdown",
      "metadata": {
        "id": "01h2ZBRof88c",
        "colab_type": "text"
      },
      "source": [
        "## 9.Matrix multiplication"
      ]
    },
    {
      "cell_type": "markdown",
      "metadata": {
        "id": "Cfpn307pf88g",
        "colab_type": "text"
      },
      "source": [
        "Let's delve into the element-wise and dot product multiplication between matrices (two-dimensional arrays). First, we define two matrices:"
      ]
    },
    {
      "cell_type": "code",
      "metadata": {
        "id": "ualh0UyRf88h",
        "colab_type": "code",
        "colab": {},
        "outputId": "82e5373f-4b42-4c82-8b9c-872e02e8e9bc"
      },
      "source": [
        "A = np.array([[1,1,8],[0,1,9],[9,0,8]])\n",
        "print(\"Matrix A:\\n\", A, '\\n')\n",
        "\n",
        "B = np.array([[2,0,0],[3,4,9],[7,8,9]])\n",
        "print('MATRIX B:\\n', B, '\\n')"
      ],
      "execution_count": 101,
      "outputs": [
        {
          "output_type": "stream",
          "name": "stdout",
          "text": [
            "Matrix A:\n [[1 1 8]\n [0 1 9]\n [9 0 8]] \n\nMATRIX B:\n [[2 0 0]\n [3 4 9]\n [7 8 9]] \n\n"
          ]
        }
      ]
    },
    {
      "cell_type": "markdown",
      "metadata": {
        "id": "M1SBY0cdf88n",
        "colab_type": "text"
      },
      "source": [
        "The product between the two matrices can be executed with the classic arithmetic operator `*`:"
      ]
    },
    {
      "cell_type": "code",
      "metadata": {
        "id": "MTw8eMcQf88o",
        "colab_type": "code",
        "colab": {},
        "outputId": "5abf81c2-c2fa-4c64-ceab-a017a11584b7"
      },
      "source": [
        "print(\"Element wise multiplication:\\n\", A*B, '\\n')"
      ],
      "execution_count": 102,
      "outputs": [
        {
          "output_type": "stream",
          "name": "stdout",
          "text": [
            "Element wise multiplication:\n [[ 2  0  0]\n [ 0  4 81]\n [63  0 72]] \n\n"
          ]
        }
      ]
    },
    {
      "cell_type": "markdown",
      "metadata": {
        "id": "4nb2aUfQf88r",
        "colab_type": "text"
      },
      "source": [
        "The dot product of matrices can be executed with the `@` operator or with the numpy `np.dot()` function:"
      ]
    },
    {
      "cell_type": "code",
      "metadata": {
        "id": "svM0Lk04f88s",
        "colab_type": "code",
        "colab": {},
        "outputId": "b42ba9d3-418e-4f0d-e21e-516fdb2f04cd"
      },
      "source": [
        "print(\"Matrix product:\\n\", A@B, '\\n') # matrix A = (2 ,3) , matrix B= (3,4), output matrix =( 2,4)\n",
        "print(\"Dot product:\\n\", A.dot(B), '\\n')"
      ],
      "execution_count": 103,
      "outputs": [
        {
          "output_type": "stream",
          "name": "stdout",
          "text": [
            "Matrix product:\n [[61 68 81]\n [66 76 90]\n [74 64 72]] \n\nDot product:\n [[61 68 81]\n [66 76 90]\n [74 64 72]] \n\n"
          ]
        }
      ]
    },
    {
      "cell_type": "markdown",
      "metadata": {
        "id": "l4lf81DJf88y",
        "colab_type": "text"
      },
      "source": [
        "## 10. Arrays with `random` numbers"
      ]
    },
    {
      "cell_type": "markdown",
      "metadata": {
        "id": "VTH1fTJef88y",
        "colab_type": "text"
      },
      "source": [
        "A random number is a result of a variable combination specified by a distribution function. When no distribution is specified, it is assumed that the continuous uniform distribution in the interval [0,1) is used. Some functions for generating random numpy numbers are:\n",
        "- `np.random.random()`: returns random floats in the half-open interval [0.0, 1.0)\n",
        "- `np.random.randint(low, high)`: returns random integers from low (inclusive) to high (exclusive).\n",
        "- `np.random.normal()`: returns random samples from a normal (Gaussian) distribution.\n",
        "\n",
        "Let's see some examples:"
      ]
    },
    {
      "cell_type": "code",
      "metadata": {
        "id": "UKm6quFsf880",
        "colab_type": "code",
        "colab": {},
        "outputId": "5bcb474a-469f-41fa-e894-dc2c84d7c0a3"
      },
      "source": [
        "np.random.random((4,3))"
      ],
      "execution_count": 104,
      "outputs": [
        {
          "output_type": "execute_result",
          "data": {
            "text/plain": [
              "array([[0.6712538 , 0.16683554, 0.87320902],\n",
              "       [0.90111407, 0.06478182, 0.30460763],\n",
              "       [0.17017764, 0.95426176, 0.22130093],\n",
              "       [0.77563497, 0.4005681 , 0.8795007 ]])"
            ]
          },
          "metadata": {},
          "execution_count": 104
        }
      ]
    },
    {
      "cell_type": "code",
      "metadata": {
        "id": "Z6KREOQ6f886",
        "colab_type": "code",
        "colab": {},
        "outputId": "8b0a85f2-f976-4659-c1ad-c865c211f537"
      },
      "source": [
        "np.random.randint(10, 20, size=(2, 4))"
      ],
      "execution_count": 105,
      "outputs": [
        {
          "output_type": "execute_result",
          "data": {
            "text/plain": [
              "array([[11, 13, 16, 18],\n",
              "       [19, 17, 15, 13]])"
            ]
          },
          "metadata": {},
          "execution_count": 105
        }
      ]
    },
    {
      "cell_type": "code",
      "metadata": {
        "id": "vxMDECBPf889",
        "colab_type": "code",
        "colab": {},
        "outputId": "af6aa58e-accf-447f-9420-8674efd12de3"
      },
      "source": [
        "np.random.normal(size=10)"
      ],
      "execution_count": 107,
      "outputs": [
        {
          "output_type": "execute_result",
          "data": {
            "text/plain": [
              "array([-1.52738127,  1.26188982, -0.20019884, -1.80171561,  0.15792278,\n",
              "       -0.01907938,  0.17260513, -0.29654095,  0.53422727,  0.85938881])"
            ]
          },
          "metadata": {},
          "execution_count": 107
        }
      ]
    },
    {
      "cell_type": "markdown",
      "metadata": {
        "id": "MtooXTQef89A",
        "colab_type": "text"
      },
      "source": [
        "Ee can also specify a `seed`, so that the sequence of random numbers is repeatable (if you execute the following code several times, you will get the same random results):"
      ]
    },
    {
      "cell_type": "code",
      "metadata": {
        "id": "Df77Kx3wf89B",
        "colab_type": "code",
        "colab": {},
        "outputId": "6e4dd404-c925-4e46-d32e-5763d9e24c48"
      },
      "source": [
        "from numpy.random import seed\n",
        "from numpy.random import rand\n",
        "\n",
        "# Seed random number generator\n",
        "seed(42)\n",
        "\n",
        "# Generate random numbers between 0-1\n",
        "values = rand(10)\n",
        "print(values)"
      ],
      "execution_count": null,
      "outputs": [
        {
          "output_type": "stream",
          "text": [
            "[0.37454012 0.95071431 0.73199394 0.59865848 0.15601864 0.15599452\n",
            " 0.05808361 0.86617615 0.60111501 0.70807258]\n"
          ],
          "name": "stdout"
        }
      ]
    },
    {
      "cell_type": "markdown",
      "metadata": {
        "id": "iXJBJnNuf89E",
        "colab_type": "text"
      },
      "source": [
        "## 11. Concatenate, and stack `Numpy` arrays"
      ]
    },
    {
      "cell_type": "markdown",
      "metadata": {
        "id": "kVY0Sczdf89F",
        "colab_type": "text"
      },
      "source": [
        "The **concatenation** `np.concatenate()` is a process of joining several arrays to form one, on the same axis. **Stacking** `np.stack()` is a process of joining arrays on a new axis. Let's dive a little bit more on this concepts with practical examples:"
      ]
    },
    {
      "cell_type": "code",
      "metadata": {
        "id": "EeXmRI4vf89G",
        "colab_type": "code",
        "colab": {},
        "outputId": "0647a85f-d75f-4efd-88e9-da95832bf5ba"
      },
      "source": [
        "my_array = np.array([1,2,34,5])\n",
        "x = np.array([1,4,5,6])\n",
        "print('x: \\t  ', x)\n",
        "print('my_array: ', my_array)"
      ],
      "execution_count": 108,
      "outputs": [
        {
          "output_type": "stream",
          "name": "stdout",
          "text": [
            "x: \t   [1 4 5 6]\nmy_array:  [ 1  2 34  5]\n"
          ]
        }
      ]
    },
    {
      "cell_type": "code",
      "metadata": {
        "id": "clNfLcnof89I",
        "colab_type": "code",
        "colab": {},
        "outputId": "462925f2-3d07-4a37-e9be-4a7e849e51f1"
      },
      "source": [
        "print('Append:\\n',np.append(my_array,x))\n",
        "y = np.append(my_array, x)\n",
        "\n",
        "# Concatentate `my_array` and `x`\n",
        "print('\\nConcatenate:\\n',np.concatenate((my_array,x)))"
      ],
      "execution_count": 109,
      "outputs": [
        {
          "output_type": "stream",
          "name": "stdout",
          "text": [
            "Append:\n [ 1  2 34  5  1  4  5  6]\n\nConcatenate:\n [ 1  2 34  5  1  4  5  6]\n"
          ]
        }
      ]
    },
    {
      "cell_type": "code",
      "metadata": {
        "id": "_7bJKBFtf89Q",
        "colab_type": "code",
        "colab": {},
        "outputId": "40ad7c8b-b5d3-4c39-bf3c-429ebdd16161"
      },
      "source": [
        "# Stack arrays vertically (row-wise)\n",
        "print(\"Stack row wise:\")\n",
        "print(np.vstack((my_array, x)))"
      ],
      "execution_count": null,
      "outputs": [
        {
          "output_type": "stream",
          "text": [
            "Stack row wise:\n",
            "[[ 1  2 34  5]\n",
            " [ 1  4  5  6]]\n"
          ],
          "name": "stdout"
        }
      ]
    },
    {
      "cell_type": "code",
      "metadata": {
        "id": "SWYSIGd2f89V",
        "colab_type": "code",
        "colab": {},
        "outputId": "9f5f85d1-b718-4b0c-d960-5d3fd63662c5"
      },
      "source": [
        "# Stack arrays horizontally\n",
        "print(\"Stack horizantally:\")\n",
        "print(np.hstack((my_array,x)))\n",
        "\n",
        "print(\"\\nAnother way:\")\n",
        "print(np.r_[my_array,x])"
      ],
      "execution_count": null,
      "outputs": [
        {
          "output_type": "stream",
          "text": [
            "Stack horizantally:\n",
            "[ 1  2 34  5  1  4  5  6]\n",
            "\n",
            "Another way:\n",
            "[ 1  2 34  5  1  4  5  6]\n"
          ],
          "name": "stdout"
        }
      ]
    },
    {
      "cell_type": "code",
      "metadata": {
        "id": "01esLgVJf89X",
        "colab_type": "code",
        "colab": {},
        "outputId": "e96c8f34-fce3-4778-b7e6-017670bb8097"
      },
      "source": [
        "# Stack arrays column-wise\n",
        "print(\"Stack column wise:\")\n",
        "print(np.column_stack(( my_array,x)))\n",
        "\n",
        "print(\"\\nColumn wise repeat:\")\n",
        "print(np.c_[ my_array,x])"
      ],
      "execution_count": 110,
      "outputs": [
        {
          "output_type": "stream",
          "name": "stdout",
          "text": [
            "Stack column wise:\n[[ 1  1]\n [ 2  4]\n [34  5]\n [ 5  6]]\n\nColumn wise repeat:\n[[ 1  1]\n [ 2  4]\n [34  5]\n [ 5  6]]\n"
          ]
        }
      ]
    },
    {
      "cell_type": "markdown",
      "metadata": {
        "id": "BhNtyz95f89Z",
        "colab_type": "text"
      },
      "source": [
        "As you have seen, when we concatenate the arrays, we do it on the same axis. When stacking arrays, we do it on a new axis."
      ]
    },
    {
      "cell_type": "markdown",
      "metadata": {
        "id": "Bwr6bR0Yf89Z",
        "colab_type": "text"
      },
      "source": [
        "## 12. Visualize `Numpy` array"
      ]
    },
    {
      "cell_type": "markdown",
      "metadata": {
        "id": "HmeK1Uo5f89a",
        "colab_type": "text"
      },
      "source": [
        "To visualize the content of a numpy array we can make use of the `matplotlib.pyplot` library, which allows us to visualize data and its distributions, among many other functions."
      ]
    },
    {
      "cell_type": "code",
      "metadata": {
        "id": "_DzI6kD1f89a",
        "colab_type": "code",
        "colab": {}
      },
      "source": [
        "import matplotlib.pyplot as plt"
      ],
      "execution_count": 111,
      "outputs": []
    },
    {
      "cell_type": "markdown",
      "metadata": {
        "id": "3X18qf_pf89c",
        "colab_type": "text"
      },
      "source": [
        "Let's specify an initial state for the Mersenne Twister number generator, a pseudo-random number generator:"
      ]
    },
    {
      "cell_type": "code",
      "metadata": {
        "id": "fnn7PTnpf89c",
        "colab_type": "code",
        "colab": {}
      },
      "source": [
        "rng = np.random.RandomState(10)  "
      ],
      "execution_count": 112,
      "outputs": []
    },
    {
      "cell_type": "markdown",
      "metadata": {
        "id": "FPOQujvIf89e",
        "colab_type": "text"
      },
      "source": [
        "Now we generate random values of two normal distributions with different mean and standard deviation, a distribution of mean 0 and another of mean 5, stacking them in a single array horizontally:"
      ]
    },
    {
      "cell_type": "code",
      "metadata": {
        "id": "yPqv_8MSf89e",
        "colab_type": "code",
        "colab": {}
      },
      "source": [
        "a = np.hstack((rng.normal(size=1000),rng.normal(loc=5, scale=2, size=1000)))\n",
        "a"
      ],
      "execution_count": 113,
      "outputs": [
        {
          "output_type": "execute_result",
          "data": {
            "text/plain": [
              "array([ 1.3315865 ,  0.71527897, -1.54540029, ...,  5.74446677,\n",
              "        6.22449239,  8.42055014])"
            ]
          },
          "metadata": {},
          "execution_count": 113
        }
      ]
    },
    {
      "cell_type": "markdown",
      "metadata": {
        "id": "_9Dof31hf89h",
        "colab_type": "text"
      },
      "source": [
        "Let's visualize the data of the number arrangement of the two distributions, in a histogram with the help of the library `matplotlib.pyplot` to which we have aliased `plt`:"
      ]
    },
    {
      "cell_type": "code",
      "metadata": {
        "id": "0dep-zq-f89i",
        "colab_type": "code",
        "colab": {},
        "outputId": "99d8aec3-90cc-4971-d489-728c21529fa1"
      },
      "source": [
        "plt.hist(a, bins='auto')\n",
        "plt.title(\"Histogram\")\n",
        "plt.show()"
      ],
      "execution_count": 114,
      "outputs": [
        {
          "output_type": "display_data",
          "data": {
            "text/plain": "<Figure size 432x288 with 1 Axes>",
            "image/svg+xml": "<?xml version=\"1.0\" encoding=\"utf-8\" standalone=\"no\"?>\r\n<!DOCTYPE svg PUBLIC \"-//W3C//DTD SVG 1.1//EN\"\r\n  \"http://www.w3.org/Graphics/SVG/1.1/DTD/svg11.dtd\">\r\n<svg height=\"263.63625pt\" version=\"1.1\" viewBox=\"0 0 375.2875 263.63625\" width=\"375.2875pt\" xmlns=\"http://www.w3.org/2000/svg\" xmlns:xlink=\"http://www.w3.org/1999/xlink\">\r\n <metadata>\r\n  <rdf:RDF xmlns:cc=\"http://creativecommons.org/ns#\" xmlns:dc=\"http://purl.org/dc/elements/1.1/\" xmlns:rdf=\"http://www.w3.org/1999/02/22-rdf-syntax-ns#\">\r\n   <cc:Work>\r\n    <dc:type rdf:resource=\"http://purl.org/dc/dcmitype/StillImage\"/>\r\n    <dc:date>2021-04-08T20:28:47.984082</dc:date>\r\n    <dc:format>image/svg+xml</dc:format>\r\n    <dc:creator>\r\n     <cc:Agent>\r\n      <dc:title>Matplotlib v3.4.1, https://matplotlib.org/</dc:title>\r\n     </cc:Agent>\r\n    </dc:creator>\r\n   </cc:Work>\r\n  </rdf:RDF>\r\n </metadata>\r\n <defs>\r\n  <style type=\"text/css\">*{stroke-linecap:butt;stroke-linejoin:round;}</style>\r\n </defs>\r\n <g id=\"figure_1\">\r\n  <g id=\"patch_1\">\r\n   <path d=\"M 0 263.63625 \r\nL 375.2875 263.63625 \r\nL 375.2875 0 \r\nL 0 0 \r\nz\r\n\" style=\"fill:none;\"/>\r\n  </g>\r\n  <g id=\"axes_1\">\r\n   <g id=\"patch_2\">\r\n    <path d=\"M 33.2875 239.758125 \r\nL 368.0875 239.758125 \r\nL 368.0875 22.318125 \r\nL 33.2875 22.318125 \r\nz\r\n\" style=\"fill:#ffffff;\"/>\r\n   </g>\r\n   <g id=\"patch_3\">\r\n    <path clip-path=\"url(#p59ca2da441)\" d=\"M 48.505682 239.758125 \r\nL 65.414773 239.758125 \r\nL 65.414773 236.64873 \r\nL 48.505682 236.64873 \r\nz\r\n\" style=\"fill:#1f77b4;\"/>\r\n   </g>\r\n   <g id=\"patch_4\">\r\n    <path clip-path=\"url(#p59ca2da441)\" d=\"M 65.414773 239.758125 \r\nL 82.323864 239.758125 \r\nL 82.323864 218.614238 \r\nL 65.414773 218.614238 \r\nz\r\n\" style=\"fill:#1f77b4;\"/>\r\n   </g>\r\n   <g id=\"patch_5\">\r\n    <path clip-path=\"url(#p59ca2da441)\" d=\"M 82.323864 239.758125 \r\nL 99.232955 239.758125 \r\nL 99.232955 155.804457 \r\nL 82.323864 155.804457 \r\nz\r\n\" style=\"fill:#1f77b4;\"/>\r\n   </g>\r\n   <g id=\"patch_6\">\r\n    <path clip-path=\"url(#p59ca2da441)\" d=\"M 99.232955 239.758125 \r\nL 116.142045 239.758125 \r\nL 116.142045 69.363273 \r\nL 99.232955 69.363273 \r\nz\r\n\" style=\"fill:#1f77b4;\"/>\r\n   </g>\r\n   <g id=\"patch_7\">\r\n    <path clip-path=\"url(#p59ca2da441)\" d=\"M 116.142045 239.758125 \r\nL 133.051136 239.758125 \r\nL 133.051136 32.672411 \r\nL 116.142045 32.672411 \r\nz\r\n\" style=\"fill:#1f77b4;\"/>\r\n   </g>\r\n   <g id=\"patch_8\">\r\n    <path clip-path=\"url(#p59ca2da441)\" d=\"M 133.051136 239.758125 \r\nL 149.960227 239.758125 \r\nL 149.960227 118.491716 \r\nL 133.051136 118.491716 \r\nz\r\n\" style=\"fill:#1f77b4;\"/>\r\n   </g>\r\n   <g id=\"patch_9\">\r\n    <path clip-path=\"url(#p59ca2da441)\" d=\"M 149.960227 239.758125 \r\nL 166.869318 239.758125 \r\nL 166.869318 181.301497 \r\nL 149.960227 181.301497 \r\nz\r\n\" style=\"fill:#1f77b4;\"/>\r\n   </g>\r\n   <g id=\"patch_10\">\r\n    <path clip-path=\"url(#p59ca2da441)\" d=\"M 166.869318 239.758125 \r\nL 183.778409 239.758125 \r\nL 183.778409 188.764045 \r\nL 166.869318 188.764045 \r\nz\r\n\" style=\"fill:#1f77b4;\"/>\r\n   </g>\r\n   <g id=\"patch_11\">\r\n    <path clip-path=\"url(#p59ca2da441)\" d=\"M 183.778409 239.758125 \r\nL 200.6875 239.758125 \r\nL 200.6875 178.813981 \r\nL 183.778409 178.813981 \r\nz\r\n\" style=\"fill:#1f77b4;\"/>\r\n   </g>\r\n   <g id=\"patch_12\">\r\n    <path clip-path=\"url(#p59ca2da441)\" d=\"M 200.6875 239.758125 \r\nL 217.596591 239.758125 \r\nL 217.596591 149.585667 \r\nL 200.6875 149.585667 \r\nz\r\n\" style=\"fill:#1f77b4;\"/>\r\n   </g>\r\n   <g id=\"patch_13\">\r\n    <path clip-path=\"url(#p59ca2da441)\" d=\"M 217.596591 239.758125 \r\nL 234.505682 239.758125 \r\nL 234.505682 150.829425 \r\nL 217.596591 150.829425 \r\nz\r\n\" style=\"fill:#1f77b4;\"/>\r\n   </g>\r\n   <g id=\"patch_14\">\r\n    <path clip-path=\"url(#p59ca2da441)\" d=\"M 234.505682 239.758125 \r\nL 251.414773 239.758125 \r\nL 251.414773 142.123119 \r\nL 234.505682 142.123119 \r\nz\r\n\" style=\"fill:#1f77b4;\"/>\r\n   </g>\r\n   <g id=\"patch_15\">\r\n    <path clip-path=\"url(#p59ca2da441)\" d=\"M 251.414773 239.758125 \r\nL 268.323864 239.758125 \r\nL 268.323864 164.510763 \r\nL 251.414773 164.510763 \r\nz\r\n\" style=\"fill:#1f77b4;\"/>\r\n   </g>\r\n   <g id=\"patch_16\">\r\n    <path clip-path=\"url(#p59ca2da441)\" d=\"M 268.323864 239.758125 \r\nL 285.232955 239.758125 \r\nL 285.232955 184.410892 \r\nL 268.323864 184.410892 \r\nz\r\n\" style=\"fill:#1f77b4;\"/>\r\n   </g>\r\n   <g id=\"patch_17\">\r\n    <path clip-path=\"url(#p59ca2da441)\" d=\"M 285.232955 239.758125 \r\nL 302.142045 239.758125 \r\nL 302.142045 208.664174 \r\nL 285.232955 208.664174 \r\nz\r\n\" style=\"fill:#1f77b4;\"/>\r\n   </g>\r\n   <g id=\"patch_18\">\r\n    <path clip-path=\"url(#p59ca2da441)\" d=\"M 302.142045 239.758125 \r\nL 319.051136 239.758125 \r\nL 319.051136 224.833028 \r\nL 302.142045 224.833028 \r\nz\r\n\" style=\"fill:#1f77b4;\"/>\r\n   </g>\r\n   <g id=\"patch_19\">\r\n    <path clip-path=\"url(#p59ca2da441)\" d=\"M 319.051136 239.758125 \r\nL 335.960227 239.758125 \r\nL 335.960227 229.808061 \r\nL 319.051136 229.808061 \r\nz\r\n\" style=\"fill:#1f77b4;\"/>\r\n   </g>\r\n   <g id=\"patch_20\">\r\n    <path clip-path=\"url(#p59ca2da441)\" d=\"M 335.960227 239.758125 \r\nL 352.869318 239.758125 \r\nL 352.869318 236.64873 \r\nL 335.960227 236.64873 \r\nz\r\n\" style=\"fill:#1f77b4;\"/>\r\n   </g>\r\n   <g id=\"matplotlib.axis_1\">\r\n    <g id=\"xtick_1\">\r\n     <g id=\"line2d_1\">\r\n      <defs>\r\n       <path d=\"M 0 0 \r\nL 0 3.5 \r\n\" id=\"mf6a64ed06b\" style=\"stroke:#000000;stroke-width:0.8;\"/>\r\n      </defs>\r\n      <g>\r\n       <use style=\"stroke:#000000;stroke-width:0.8;\" x=\"75.087008\" xlink:href=\"#mf6a64ed06b\" y=\"239.758125\"/>\r\n      </g>\r\n     </g>\r\n     <g id=\"text_1\">\r\n      <!-- −2 -->\r\n      <g transform=\"translate(67.715915 254.356563)scale(0.1 -0.1)\">\r\n       <defs>\r\n        <path d=\"M 678 2272 \r\nL 4684 2272 \r\nL 4684 1741 \r\nL 678 1741 \r\nL 678 2272 \r\nz\r\n\" id=\"DejaVuSans-2212\" transform=\"scale(0.015625)\"/>\r\n        <path d=\"M 1228 531 \r\nL 3431 531 \r\nL 3431 0 \r\nL 469 0 \r\nL 469 531 \r\nQ 828 903 1448 1529 \r\nQ 2069 2156 2228 2338 \r\nQ 2531 2678 2651 2914 \r\nQ 2772 3150 2772 3378 \r\nQ 2772 3750 2511 3984 \r\nQ 2250 4219 1831 4219 \r\nQ 1534 4219 1204 4116 \r\nQ 875 4013 500 3803 \r\nL 500 4441 \r\nQ 881 4594 1212 4672 \r\nQ 1544 4750 1819 4750 \r\nQ 2544 4750 2975 4387 \r\nQ 3406 4025 3406 3419 \r\nQ 3406 3131 3298 2873 \r\nQ 3191 2616 2906 2266 \r\nQ 2828 2175 2409 1742 \r\nQ 1991 1309 1228 531 \r\nz\r\n\" id=\"DejaVuSans-32\" transform=\"scale(0.015625)\"/>\r\n       </defs>\r\n       <use xlink:href=\"#DejaVuSans-2212\"/>\r\n       <use x=\"83.789062\" xlink:href=\"#DejaVuSans-32\"/>\r\n      </g>\r\n     </g>\r\n    </g>\r\n    <g id=\"xtick_2\">\r\n     <g id=\"line2d_2\">\r\n      <g>\r\n       <use style=\"stroke:#000000;stroke-width:0.8;\" x=\"119.227322\" xlink:href=\"#mf6a64ed06b\" y=\"239.758125\"/>\r\n      </g>\r\n     </g>\r\n     <g id=\"text_2\">\r\n      <!-- 0 -->\r\n      <g transform=\"translate(116.046072 254.356563)scale(0.1 -0.1)\">\r\n       <defs>\r\n        <path d=\"M 2034 4250 \r\nQ 1547 4250 1301 3770 \r\nQ 1056 3291 1056 2328 \r\nQ 1056 1369 1301 889 \r\nQ 1547 409 2034 409 \r\nQ 2525 409 2770 889 \r\nQ 3016 1369 3016 2328 \r\nQ 3016 3291 2770 3770 \r\nQ 2525 4250 2034 4250 \r\nz\r\nM 2034 4750 \r\nQ 2819 4750 3233 4129 \r\nQ 3647 3509 3647 2328 \r\nQ 3647 1150 3233 529 \r\nQ 2819 -91 2034 -91 \r\nQ 1250 -91 836 529 \r\nQ 422 1150 422 2328 \r\nQ 422 3509 836 4129 \r\nQ 1250 4750 2034 4750 \r\nz\r\n\" id=\"DejaVuSans-30\" transform=\"scale(0.015625)\"/>\r\n       </defs>\r\n       <use xlink:href=\"#DejaVuSans-30\"/>\r\n      </g>\r\n     </g>\r\n    </g>\r\n    <g id=\"xtick_3\">\r\n     <g id=\"line2d_3\">\r\n      <g>\r\n       <use style=\"stroke:#000000;stroke-width:0.8;\" x=\"163.367635\" xlink:href=\"#mf6a64ed06b\" y=\"239.758125\"/>\r\n      </g>\r\n     </g>\r\n     <g id=\"text_3\">\r\n      <!-- 2 -->\r\n      <g transform=\"translate(160.186385 254.356563)scale(0.1 -0.1)\">\r\n       <use xlink:href=\"#DejaVuSans-32\"/>\r\n      </g>\r\n     </g>\r\n    </g>\r\n    <g id=\"xtick_4\">\r\n     <g id=\"line2d_4\">\r\n      <g>\r\n       <use style=\"stroke:#000000;stroke-width:0.8;\" x=\"207.507949\" xlink:href=\"#mf6a64ed06b\" y=\"239.758125\"/>\r\n      </g>\r\n     </g>\r\n     <g id=\"text_4\">\r\n      <!-- 4 -->\r\n      <g transform=\"translate(204.326699 254.356563)scale(0.1 -0.1)\">\r\n       <defs>\r\n        <path d=\"M 2419 4116 \r\nL 825 1625 \r\nL 2419 1625 \r\nL 2419 4116 \r\nz\r\nM 2253 4666 \r\nL 3047 4666 \r\nL 3047 1625 \r\nL 3713 1625 \r\nL 3713 1100 \r\nL 3047 1100 \r\nL 3047 0 \r\nL 2419 0 \r\nL 2419 1100 \r\nL 313 1100 \r\nL 313 1709 \r\nL 2253 4666 \r\nz\r\n\" id=\"DejaVuSans-34\" transform=\"scale(0.015625)\"/>\r\n       </defs>\r\n       <use xlink:href=\"#DejaVuSans-34\"/>\r\n      </g>\r\n     </g>\r\n    </g>\r\n    <g id=\"xtick_5\">\r\n     <g id=\"line2d_5\">\r\n      <g>\r\n       <use style=\"stroke:#000000;stroke-width:0.8;\" x=\"251.648262\" xlink:href=\"#mf6a64ed06b\" y=\"239.758125\"/>\r\n      </g>\r\n     </g>\r\n     <g id=\"text_5\">\r\n      <!-- 6 -->\r\n      <g transform=\"translate(248.467012 254.356563)scale(0.1 -0.1)\">\r\n       <defs>\r\n        <path d=\"M 2113 2584 \r\nQ 1688 2584 1439 2293 \r\nQ 1191 2003 1191 1497 \r\nQ 1191 994 1439 701 \r\nQ 1688 409 2113 409 \r\nQ 2538 409 2786 701 \r\nQ 3034 994 3034 1497 \r\nQ 3034 2003 2786 2293 \r\nQ 2538 2584 2113 2584 \r\nz\r\nM 3366 4563 \r\nL 3366 3988 \r\nQ 3128 4100 2886 4159 \r\nQ 2644 4219 2406 4219 \r\nQ 1781 4219 1451 3797 \r\nQ 1122 3375 1075 2522 \r\nQ 1259 2794 1537 2939 \r\nQ 1816 3084 2150 3084 \r\nQ 2853 3084 3261 2657 \r\nQ 3669 2231 3669 1497 \r\nQ 3669 778 3244 343 \r\nQ 2819 -91 2113 -91 \r\nQ 1303 -91 875 529 \r\nQ 447 1150 447 2328 \r\nQ 447 3434 972 4092 \r\nQ 1497 4750 2381 4750 \r\nQ 2619 4750 2861 4703 \r\nQ 3103 4656 3366 4563 \r\nz\r\n\" id=\"DejaVuSans-36\" transform=\"scale(0.015625)\"/>\r\n       </defs>\r\n       <use xlink:href=\"#DejaVuSans-36\"/>\r\n      </g>\r\n     </g>\r\n    </g>\r\n    <g id=\"xtick_6\">\r\n     <g id=\"line2d_6\">\r\n      <g>\r\n       <use style=\"stroke:#000000;stroke-width:0.8;\" x=\"295.788576\" xlink:href=\"#mf6a64ed06b\" y=\"239.758125\"/>\r\n      </g>\r\n     </g>\r\n     <g id=\"text_6\">\r\n      <!-- 8 -->\r\n      <g transform=\"translate(292.607326 254.356563)scale(0.1 -0.1)\">\r\n       <defs>\r\n        <path d=\"M 2034 2216 \r\nQ 1584 2216 1326 1975 \r\nQ 1069 1734 1069 1313 \r\nQ 1069 891 1326 650 \r\nQ 1584 409 2034 409 \r\nQ 2484 409 2743 651 \r\nQ 3003 894 3003 1313 \r\nQ 3003 1734 2745 1975 \r\nQ 2488 2216 2034 2216 \r\nz\r\nM 1403 2484 \r\nQ 997 2584 770 2862 \r\nQ 544 3141 544 3541 \r\nQ 544 4100 942 4425 \r\nQ 1341 4750 2034 4750 \r\nQ 2731 4750 3128 4425 \r\nQ 3525 4100 3525 3541 \r\nQ 3525 3141 3298 2862 \r\nQ 3072 2584 2669 2484 \r\nQ 3125 2378 3379 2068 \r\nQ 3634 1759 3634 1313 \r\nQ 3634 634 3220 271 \r\nQ 2806 -91 2034 -91 \r\nQ 1263 -91 848 271 \r\nQ 434 634 434 1313 \r\nQ 434 1759 690 2068 \r\nQ 947 2378 1403 2484 \r\nz\r\nM 1172 3481 \r\nQ 1172 3119 1398 2916 \r\nQ 1625 2713 2034 2713 \r\nQ 2441 2713 2670 2916 \r\nQ 2900 3119 2900 3481 \r\nQ 2900 3844 2670 4047 \r\nQ 2441 4250 2034 4250 \r\nQ 1625 4250 1398 4047 \r\nQ 1172 3844 1172 3481 \r\nz\r\n\" id=\"DejaVuSans-38\" transform=\"scale(0.015625)\"/>\r\n       </defs>\r\n       <use xlink:href=\"#DejaVuSans-38\"/>\r\n      </g>\r\n     </g>\r\n    </g>\r\n    <g id=\"xtick_7\">\r\n     <g id=\"line2d_7\">\r\n      <g>\r\n       <use style=\"stroke:#000000;stroke-width:0.8;\" x=\"339.92889\" xlink:href=\"#mf6a64ed06b\" y=\"239.758125\"/>\r\n      </g>\r\n     </g>\r\n     <g id=\"text_7\">\r\n      <!-- 10 -->\r\n      <g transform=\"translate(333.56639 254.356563)scale(0.1 -0.1)\">\r\n       <defs>\r\n        <path d=\"M 794 531 \r\nL 1825 531 \r\nL 1825 4091 \r\nL 703 3866 \r\nL 703 4441 \r\nL 1819 4666 \r\nL 2450 4666 \r\nL 2450 531 \r\nL 3481 531 \r\nL 3481 0 \r\nL 794 0 \r\nL 794 531 \r\nz\r\n\" id=\"DejaVuSans-31\" transform=\"scale(0.015625)\"/>\r\n       </defs>\r\n       <use xlink:href=\"#DejaVuSans-31\"/>\r\n       <use x=\"63.623047\" xlink:href=\"#DejaVuSans-30\"/>\r\n      </g>\r\n     </g>\r\n    </g>\r\n   </g>\r\n   <g id=\"matplotlib.axis_2\">\r\n    <g id=\"ytick_1\">\r\n     <g id=\"line2d_8\">\r\n      <defs>\r\n       <path d=\"M 0 0 \r\nL -3.5 0 \r\n\" id=\"m4105df4ec2\" style=\"stroke:#000000;stroke-width:0.8;\"/>\r\n      </defs>\r\n      <g>\r\n       <use style=\"stroke:#000000;stroke-width:0.8;\" x=\"33.2875\" xlink:href=\"#m4105df4ec2\" y=\"239.758125\"/>\r\n      </g>\r\n     </g>\r\n     <g id=\"text_8\">\r\n      <!-- 0 -->\r\n      <g transform=\"translate(19.925 243.557344)scale(0.1 -0.1)\">\r\n       <use xlink:href=\"#DejaVuSans-30\"/>\r\n      </g>\r\n     </g>\r\n    </g>\r\n    <g id=\"ytick_2\">\r\n     <g id=\"line2d_9\">\r\n      <g>\r\n       <use style=\"stroke:#000000;stroke-width:0.8;\" x=\"33.2875\" xlink:href=\"#m4105df4ec2\" y=\"208.664174\"/>\r\n      </g>\r\n     </g>\r\n     <g id=\"text_9\">\r\n      <!-- 50 -->\r\n      <g transform=\"translate(13.5625 212.463393)scale(0.1 -0.1)\">\r\n       <defs>\r\n        <path d=\"M 691 4666 \r\nL 3169 4666 \r\nL 3169 4134 \r\nL 1269 4134 \r\nL 1269 2991 \r\nQ 1406 3038 1543 3061 \r\nQ 1681 3084 1819 3084 \r\nQ 2600 3084 3056 2656 \r\nQ 3513 2228 3513 1497 \r\nQ 3513 744 3044 326 \r\nQ 2575 -91 1722 -91 \r\nQ 1428 -91 1123 -41 \r\nQ 819 9 494 109 \r\nL 494 744 \r\nQ 775 591 1075 516 \r\nQ 1375 441 1709 441 \r\nQ 2250 441 2565 725 \r\nQ 2881 1009 2881 1497 \r\nQ 2881 1984 2565 2268 \r\nQ 2250 2553 1709 2553 \r\nQ 1456 2553 1204 2497 \r\nQ 953 2441 691 2322 \r\nL 691 4666 \r\nz\r\n\" id=\"DejaVuSans-35\" transform=\"scale(0.015625)\"/>\r\n       </defs>\r\n       <use xlink:href=\"#DejaVuSans-35\"/>\r\n       <use x=\"63.623047\" xlink:href=\"#DejaVuSans-30\"/>\r\n      </g>\r\n     </g>\r\n    </g>\r\n    <g id=\"ytick_3\">\r\n     <g id=\"line2d_10\">\r\n      <g>\r\n       <use style=\"stroke:#000000;stroke-width:0.8;\" x=\"33.2875\" xlink:href=\"#m4105df4ec2\" y=\"177.570223\"/>\r\n      </g>\r\n     </g>\r\n     <g id=\"text_10\">\r\n      <!-- 100 -->\r\n      <g transform=\"translate(7.2 181.369442)scale(0.1 -0.1)\">\r\n       <use xlink:href=\"#DejaVuSans-31\"/>\r\n       <use x=\"63.623047\" xlink:href=\"#DejaVuSans-30\"/>\r\n       <use x=\"127.246094\" xlink:href=\"#DejaVuSans-30\"/>\r\n      </g>\r\n     </g>\r\n    </g>\r\n    <g id=\"ytick_4\">\r\n     <g id=\"line2d_11\">\r\n      <g>\r\n       <use style=\"stroke:#000000;stroke-width:0.8;\" x=\"33.2875\" xlink:href=\"#m4105df4ec2\" y=\"146.476272\"/>\r\n      </g>\r\n     </g>\r\n     <g id=\"text_11\">\r\n      <!-- 150 -->\r\n      <g transform=\"translate(7.2 150.27549)scale(0.1 -0.1)\">\r\n       <use xlink:href=\"#DejaVuSans-31\"/>\r\n       <use x=\"63.623047\" xlink:href=\"#DejaVuSans-35\"/>\r\n       <use x=\"127.246094\" xlink:href=\"#DejaVuSans-30\"/>\r\n      </g>\r\n     </g>\r\n    </g>\r\n    <g id=\"ytick_5\">\r\n     <g id=\"line2d_12\">\r\n      <g>\r\n       <use style=\"stroke:#000000;stroke-width:0.8;\" x=\"33.2875\" xlink:href=\"#m4105df4ec2\" y=\"115.382321\"/>\r\n      </g>\r\n     </g>\r\n     <g id=\"text_12\">\r\n      <!-- 200 -->\r\n      <g transform=\"translate(7.2 119.181539)scale(0.1 -0.1)\">\r\n       <use xlink:href=\"#DejaVuSans-32\"/>\r\n       <use x=\"63.623047\" xlink:href=\"#DejaVuSans-30\"/>\r\n       <use x=\"127.246094\" xlink:href=\"#DejaVuSans-30\"/>\r\n      </g>\r\n     </g>\r\n    </g>\r\n    <g id=\"ytick_6\">\r\n     <g id=\"line2d_13\">\r\n      <g>\r\n       <use style=\"stroke:#000000;stroke-width:0.8;\" x=\"33.2875\" xlink:href=\"#m4105df4ec2\" y=\"84.28837\"/>\r\n      </g>\r\n     </g>\r\n     <g id=\"text_13\">\r\n      <!-- 250 -->\r\n      <g transform=\"translate(7.2 88.087588)scale(0.1 -0.1)\">\r\n       <use xlink:href=\"#DejaVuSans-32\"/>\r\n       <use x=\"63.623047\" xlink:href=\"#DejaVuSans-35\"/>\r\n       <use x=\"127.246094\" xlink:href=\"#DejaVuSans-30\"/>\r\n      </g>\r\n     </g>\r\n    </g>\r\n    <g id=\"ytick_7\">\r\n     <g id=\"line2d_14\">\r\n      <g>\r\n       <use style=\"stroke:#000000;stroke-width:0.8;\" x=\"33.2875\" xlink:href=\"#m4105df4ec2\" y=\"53.194418\"/>\r\n      </g>\r\n     </g>\r\n     <g id=\"text_14\">\r\n      <!-- 300 -->\r\n      <g transform=\"translate(7.2 56.993637)scale(0.1 -0.1)\">\r\n       <defs>\r\n        <path d=\"M 2597 2516 \r\nQ 3050 2419 3304 2112 \r\nQ 3559 1806 3559 1356 \r\nQ 3559 666 3084 287 \r\nQ 2609 -91 1734 -91 \r\nQ 1441 -91 1130 -33 \r\nQ 819 25 488 141 \r\nL 488 750 \r\nQ 750 597 1062 519 \r\nQ 1375 441 1716 441 \r\nQ 2309 441 2620 675 \r\nQ 2931 909 2931 1356 \r\nQ 2931 1769 2642 2001 \r\nQ 2353 2234 1838 2234 \r\nL 1294 2234 \r\nL 1294 2753 \r\nL 1863 2753 \r\nQ 2328 2753 2575 2939 \r\nQ 2822 3125 2822 3475 \r\nQ 2822 3834 2567 4026 \r\nQ 2313 4219 1838 4219 \r\nQ 1578 4219 1281 4162 \r\nQ 984 4106 628 3988 \r\nL 628 4550 \r\nQ 988 4650 1302 4700 \r\nQ 1616 4750 1894 4750 \r\nQ 2613 4750 3031 4423 \r\nQ 3450 4097 3450 3541 \r\nQ 3450 3153 3228 2886 \r\nQ 3006 2619 2597 2516 \r\nz\r\n\" id=\"DejaVuSans-33\" transform=\"scale(0.015625)\"/>\r\n       </defs>\r\n       <use xlink:href=\"#DejaVuSans-33\"/>\r\n       <use x=\"63.623047\" xlink:href=\"#DejaVuSans-30\"/>\r\n       <use x=\"127.246094\" xlink:href=\"#DejaVuSans-30\"/>\r\n      </g>\r\n     </g>\r\n    </g>\r\n   </g>\r\n   <g id=\"patch_21\">\r\n    <path d=\"M 33.2875 239.758125 \r\nL 33.2875 22.318125 \r\n\" style=\"fill:none;stroke:#000000;stroke-linecap:square;stroke-linejoin:miter;stroke-width:0.8;\"/>\r\n   </g>\r\n   <g id=\"patch_22\">\r\n    <path d=\"M 368.0875 239.758125 \r\nL 368.0875 22.318125 \r\n\" style=\"fill:none;stroke:#000000;stroke-linecap:square;stroke-linejoin:miter;stroke-width:0.8;\"/>\r\n   </g>\r\n   <g id=\"patch_23\">\r\n    <path d=\"M 33.2875 239.758125 \r\nL 368.0875 239.758125 \r\n\" style=\"fill:none;stroke:#000000;stroke-linecap:square;stroke-linejoin:miter;stroke-width:0.8;\"/>\r\n   </g>\r\n   <g id=\"patch_24\">\r\n    <path d=\"M 33.2875 22.318125 \r\nL 368.0875 22.318125 \r\n\" style=\"fill:none;stroke:#000000;stroke-linecap:square;stroke-linejoin:miter;stroke-width:0.8;\"/>\r\n   </g>\r\n   <g id=\"text_15\">\r\n    <!-- Histogram -->\r\n    <g transform=\"translate(169.5625 16.318125)scale(0.12 -0.12)\">\r\n     <defs>\r\n      <path d=\"M 628 4666 \r\nL 1259 4666 \r\nL 1259 2753 \r\nL 3553 2753 \r\nL 3553 4666 \r\nL 4184 4666 \r\nL 4184 0 \r\nL 3553 0 \r\nL 3553 2222 \r\nL 1259 2222 \r\nL 1259 0 \r\nL 628 0 \r\nL 628 4666 \r\nz\r\n\" id=\"DejaVuSans-48\" transform=\"scale(0.015625)\"/>\r\n      <path d=\"M 603 3500 \r\nL 1178 3500 \r\nL 1178 0 \r\nL 603 0 \r\nL 603 3500 \r\nz\r\nM 603 4863 \r\nL 1178 4863 \r\nL 1178 4134 \r\nL 603 4134 \r\nL 603 4863 \r\nz\r\n\" id=\"DejaVuSans-69\" transform=\"scale(0.015625)\"/>\r\n      <path d=\"M 2834 3397 \r\nL 2834 2853 \r\nQ 2591 2978 2328 3040 \r\nQ 2066 3103 1784 3103 \r\nQ 1356 3103 1142 2972 \r\nQ 928 2841 928 2578 \r\nQ 928 2378 1081 2264 \r\nQ 1234 2150 1697 2047 \r\nL 1894 2003 \r\nQ 2506 1872 2764 1633 \r\nQ 3022 1394 3022 966 \r\nQ 3022 478 2636 193 \r\nQ 2250 -91 1575 -91 \r\nQ 1294 -91 989 -36 \r\nQ 684 19 347 128 \r\nL 347 722 \r\nQ 666 556 975 473 \r\nQ 1284 391 1588 391 \r\nQ 1994 391 2212 530 \r\nQ 2431 669 2431 922 \r\nQ 2431 1156 2273 1281 \r\nQ 2116 1406 1581 1522 \r\nL 1381 1569 \r\nQ 847 1681 609 1914 \r\nQ 372 2147 372 2553 \r\nQ 372 3047 722 3315 \r\nQ 1072 3584 1716 3584 \r\nQ 2034 3584 2315 3537 \r\nQ 2597 3491 2834 3397 \r\nz\r\n\" id=\"DejaVuSans-73\" transform=\"scale(0.015625)\"/>\r\n      <path d=\"M 1172 4494 \r\nL 1172 3500 \r\nL 2356 3500 \r\nL 2356 3053 \r\nL 1172 3053 \r\nL 1172 1153 \r\nQ 1172 725 1289 603 \r\nQ 1406 481 1766 481 \r\nL 2356 481 \r\nL 2356 0 \r\nL 1766 0 \r\nQ 1100 0 847 248 \r\nQ 594 497 594 1153 \r\nL 594 3053 \r\nL 172 3053 \r\nL 172 3500 \r\nL 594 3500 \r\nL 594 4494 \r\nL 1172 4494 \r\nz\r\n\" id=\"DejaVuSans-74\" transform=\"scale(0.015625)\"/>\r\n      <path d=\"M 1959 3097 \r\nQ 1497 3097 1228 2736 \r\nQ 959 2375 959 1747 \r\nQ 959 1119 1226 758 \r\nQ 1494 397 1959 397 \r\nQ 2419 397 2687 759 \r\nQ 2956 1122 2956 1747 \r\nQ 2956 2369 2687 2733 \r\nQ 2419 3097 1959 3097 \r\nz\r\nM 1959 3584 \r\nQ 2709 3584 3137 3096 \r\nQ 3566 2609 3566 1747 \r\nQ 3566 888 3137 398 \r\nQ 2709 -91 1959 -91 \r\nQ 1206 -91 779 398 \r\nQ 353 888 353 1747 \r\nQ 353 2609 779 3096 \r\nQ 1206 3584 1959 3584 \r\nz\r\n\" id=\"DejaVuSans-6f\" transform=\"scale(0.015625)\"/>\r\n      <path d=\"M 2906 1791 \r\nQ 2906 2416 2648 2759 \r\nQ 2391 3103 1925 3103 \r\nQ 1463 3103 1205 2759 \r\nQ 947 2416 947 1791 \r\nQ 947 1169 1205 825 \r\nQ 1463 481 1925 481 \r\nQ 2391 481 2648 825 \r\nQ 2906 1169 2906 1791 \r\nz\r\nM 3481 434 \r\nQ 3481 -459 3084 -895 \r\nQ 2688 -1331 1869 -1331 \r\nQ 1566 -1331 1297 -1286 \r\nQ 1028 -1241 775 -1147 \r\nL 775 -588 \r\nQ 1028 -725 1275 -790 \r\nQ 1522 -856 1778 -856 \r\nQ 2344 -856 2625 -561 \r\nQ 2906 -266 2906 331 \r\nL 2906 616 \r\nQ 2728 306 2450 153 \r\nQ 2172 0 1784 0 \r\nQ 1141 0 747 490 \r\nQ 353 981 353 1791 \r\nQ 353 2603 747 3093 \r\nQ 1141 3584 1784 3584 \r\nQ 2172 3584 2450 3431 \r\nQ 2728 3278 2906 2969 \r\nL 2906 3500 \r\nL 3481 3500 \r\nL 3481 434 \r\nz\r\n\" id=\"DejaVuSans-67\" transform=\"scale(0.015625)\"/>\r\n      <path d=\"M 2631 2963 \r\nQ 2534 3019 2420 3045 \r\nQ 2306 3072 2169 3072 \r\nQ 1681 3072 1420 2755 \r\nQ 1159 2438 1159 1844 \r\nL 1159 0 \r\nL 581 0 \r\nL 581 3500 \r\nL 1159 3500 \r\nL 1159 2956 \r\nQ 1341 3275 1631 3429 \r\nQ 1922 3584 2338 3584 \r\nQ 2397 3584 2469 3576 \r\nQ 2541 3569 2628 3553 \r\nL 2631 2963 \r\nz\r\n\" id=\"DejaVuSans-72\" transform=\"scale(0.015625)\"/>\r\n      <path d=\"M 2194 1759 \r\nQ 1497 1759 1228 1600 \r\nQ 959 1441 959 1056 \r\nQ 959 750 1161 570 \r\nQ 1363 391 1709 391 \r\nQ 2188 391 2477 730 \r\nQ 2766 1069 2766 1631 \r\nL 2766 1759 \r\nL 2194 1759 \r\nz\r\nM 3341 1997 \r\nL 3341 0 \r\nL 2766 0 \r\nL 2766 531 \r\nQ 2569 213 2275 61 \r\nQ 1981 -91 1556 -91 \r\nQ 1019 -91 701 211 \r\nQ 384 513 384 1019 \r\nQ 384 1609 779 1909 \r\nQ 1175 2209 1959 2209 \r\nL 2766 2209 \r\nL 2766 2266 \r\nQ 2766 2663 2505 2880 \r\nQ 2244 3097 1772 3097 \r\nQ 1472 3097 1187 3025 \r\nQ 903 2953 641 2809 \r\nL 641 3341 \r\nQ 956 3463 1253 3523 \r\nQ 1550 3584 1831 3584 \r\nQ 2591 3584 2966 3190 \r\nQ 3341 2797 3341 1997 \r\nz\r\n\" id=\"DejaVuSans-61\" transform=\"scale(0.015625)\"/>\r\n      <path d=\"M 3328 2828 \r\nQ 3544 3216 3844 3400 \r\nQ 4144 3584 4550 3584 \r\nQ 5097 3584 5394 3201 \r\nQ 5691 2819 5691 2113 \r\nL 5691 0 \r\nL 5113 0 \r\nL 5113 2094 \r\nQ 5113 2597 4934 2840 \r\nQ 4756 3084 4391 3084 \r\nQ 3944 3084 3684 2787 \r\nQ 3425 2491 3425 1978 \r\nL 3425 0 \r\nL 2847 0 \r\nL 2847 2094 \r\nQ 2847 2600 2669 2842 \r\nQ 2491 3084 2119 3084 \r\nQ 1678 3084 1418 2786 \r\nQ 1159 2488 1159 1978 \r\nL 1159 0 \r\nL 581 0 \r\nL 581 3500 \r\nL 1159 3500 \r\nL 1159 2956 \r\nQ 1356 3278 1631 3431 \r\nQ 1906 3584 2284 3584 \r\nQ 2666 3584 2933 3390 \r\nQ 3200 3197 3328 2828 \r\nz\r\n\" id=\"DejaVuSans-6d\" transform=\"scale(0.015625)\"/>\r\n     </defs>\r\n     <use xlink:href=\"#DejaVuSans-48\"/>\r\n     <use x=\"75.195312\" xlink:href=\"#DejaVuSans-69\"/>\r\n     <use x=\"102.978516\" xlink:href=\"#DejaVuSans-73\"/>\r\n     <use x=\"155.078125\" xlink:href=\"#DejaVuSans-74\"/>\r\n     <use x=\"194.287109\" xlink:href=\"#DejaVuSans-6f\"/>\r\n     <use x=\"255.46875\" xlink:href=\"#DejaVuSans-67\"/>\r\n     <use x=\"318.945312\" xlink:href=\"#DejaVuSans-72\"/>\r\n     <use x=\"360.058594\" xlink:href=\"#DejaVuSans-61\"/>\r\n     <use x=\"421.337891\" xlink:href=\"#DejaVuSans-6d\"/>\r\n    </g>\r\n   </g>\r\n  </g>\r\n </g>\r\n <defs>\r\n  <clipPath id=\"p59ca2da441\">\r\n   <rect height=\"217.44\" width=\"334.8\" x=\"33.2875\" y=\"22.318125\"/>\r\n  </clipPath>\r\n </defs>\r\n</svg>\r\n",
            "image/png": "[encoded data removed]"
          },
          "metadata": {
            "needs_background": "light"
          }
        }
      ]
    },
    {
      "cell_type": "markdown",
      "metadata": {
        "id": "_1VR0dbSf89l",
        "colab_type": "text"
      },
      "source": [
        "As can be seen, this graph denotes the distribution of the two normal distributions with a mean of 0 and 5.\n",
        "\n",
        "As an additional example, we are creating a meshgrid `np.meshgrid()` with values generated from an array of `numpy` with initial value of 5, final value of -5 (exclusive) and step of 0.01. We have calculated the value of `z` which corresponds to the general equation of a circle, so that we can generate the graph shown below:"
      ]
    },
    {
      "cell_type": "code",
      "metadata": {
        "id": "FGS6p0JKf89l",
        "colab_type": "code",
        "colab": {},
        "outputId": "0bff6fc1-3dbb-4dc1-adea-7c76470c597e"
      },
      "source": [
        "# Create an array\n",
        "points = np.arange(-5, 5, 0.01)\n",
        "\n",
        "# Make a meshgrid\n",
        "xs, ys = np.meshgrid(points, points)\n",
        "z = np.sqrt(xs ** 2 + ys ** 2)\n",
        "\n",
        "# Display the image on the axes\n",
        "plt.imshow(z, cmap=plt.cm.Reds)\n",
        "\n",
        "# Draw a color bar\n",
        "plt.colorbar()\n",
        "\n",
        "# Show the plot\n",
        "plt.show()"
      ],
      "execution_count": 119,
      "outputs": [
        {
          "output_type": "display_data",
          "data": {
            "text/plain": "<Figure size 432x288 with 2 Axes>",
            "image/svg+xml": "<?xml version=\"1.0\" encoding=\"utf-8\" standalone=\"no\"?>\r\n<!DOCTYPE svg PUBLIC \"-//W3C//DTD SVG 1.1//EN\"\r\n  \"http://www.w3.org/Graphics/SVG/1.1/DTD/svg11.dtd\">\r\n<svg height=\"252.208624pt\" version=\"1.1\" viewBox=\"0 0 298.902 252.208624\" width=\"298.902pt\" xmlns=\"http://www.w3.org/2000/svg\" xmlns:xlink=\"http://www.w3.org/1999/xlink\">\r\n <metadata>\r\n  <rdf:RDF xmlns:cc=\"http://creativecommons.org/ns#\" xmlns:dc=\"http://purl.org/dc/elements/1.1/\" xmlns:rdf=\"http://www.w3.org/1999/02/22-rdf-syntax-ns#\">\r\n   <cc:Work>\r\n    <dc:type rdf:resource=\"http://purl.org/dc/dcmitype/StillImage\"/>\r\n    <dc:date>2021-04-08T20:33:28.923969</dc:date>\r\n    <dc:format>image/svg+xml</dc:format>\r\n    <dc:creator>\r\n     <cc:Agent>\r\n      <dc:title>Matplotlib v3.4.1, https://matplotlib.org/</dc:title>\r\n     </cc:Agent>\r\n    </dc:creator>\r\n   </cc:Work>\r\n  </rdf:RDF>\r\n </metadata>\r\n <defs>\r\n  <style type=\"text/css\">*{stroke-linecap:butt;stroke-linejoin:round;}</style>\r\n </defs>\r\n <g id=\"figure_1\">\r\n  <g id=\"patch_1\">\r\n   <path d=\"M 0 252.208624 \r\nL 298.902 252.208624 \r\nL 298.902 0 \r\nL 0 0 \r\nz\r\n\" style=\"fill:none;\"/>\r\n  </g>\r\n  <g id=\"axes_1\">\r\n   <g id=\"patch_2\">\r\n    <path d=\"M 33.2875 228.330499 \r\nL 250.7275 228.330499 \r\nL 250.7275 10.890499 \r\nL 33.2875 10.890499 \r\nz\r\n\" style=\"fill:#ffffff;\"/>\r\n   </g>\r\n   <g clip-path=\"url(#p65dfcbaae2)\">\r\n    <image height=\"218\" id=\"image4223c9ba52\" transform=\"scale(1 -1)translate(0 -218)\" width=\"218\" x=\"33.2875\" xlink:href=\"data:image/png;base64,\r\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\" y=\"-10.330499\"/>\r\n   </g>\r\n   <g id=\"matplotlib.axis_1\">\r\n    <g id=\"xtick_1\">\r\n     <g id=\"line2d_1\">\r\n      <defs>\r\n       <path d=\"M 0 0 \r\nL 0 3.5 \r\n\" id=\"mb085d06804\" style=\"stroke:#000000;stroke-width:0.8;\"/>\r\n      </defs>\r\n      <g>\r\n       <use style=\"stroke:#000000;stroke-width:0.8;\" x=\"33.39622\" xlink:href=\"#mb085d06804\" y=\"228.330499\"/>\r\n      </g>\r\n     </g>\r\n     <g id=\"text_1\">\r\n      <!-- 0 -->\r\n      <g transform=\"translate(30.21497 242.928936)scale(0.1 -0.1)\">\r\n       <defs>\r\n        <path d=\"M 2034 4250 \r\nQ 1547 4250 1301 3770 \r\nQ 1056 3291 1056 2328 \r\nQ 1056 1369 1301 889 \r\nQ 1547 409 2034 409 \r\nQ 2525 409 2770 889 \r\nQ 3016 1369 3016 2328 \r\nQ 3016 3291 2770 3770 \r\nQ 2525 4250 2034 4250 \r\nz\r\nM 2034 4750 \r\nQ 2819 4750 3233 4129 \r\nQ 3647 3509 3647 2328 \r\nQ 3647 1150 3233 529 \r\nQ 2819 -91 2034 -91 \r\nQ 1250 -91 836 529 \r\nQ 422 1150 422 2328 \r\nQ 422 3509 836 4129 \r\nQ 1250 4750 2034 4750 \r\nz\r\n\" id=\"DejaVuSans-30\" transform=\"scale(0.015625)\"/>\r\n       </defs>\r\n       <use xlink:href=\"#DejaVuSans-30\"/>\r\n      </g>\r\n     </g>\r\n    </g>\r\n    <g id=\"xtick_2\">\r\n     <g id=\"line2d_2\">\r\n      <g>\r\n       <use style=\"stroke:#000000;stroke-width:0.8;\" x=\"76.88422\" xlink:href=\"#mb085d06804\" y=\"228.330499\"/>\r\n      </g>\r\n     </g>\r\n     <g id=\"text_2\">\r\n      <!-- 200 -->\r\n      <g transform=\"translate(67.34047 242.928936)scale(0.1 -0.1)\">\r\n       <defs>\r\n        <path d=\"M 1228 531 \r\nL 3431 531 \r\nL 3431 0 \r\nL 469 0 \r\nL 469 531 \r\nQ 828 903 1448 1529 \r\nQ 2069 2156 2228 2338 \r\nQ 2531 2678 2651 2914 \r\nQ 2772 3150 2772 3378 \r\nQ 2772 3750 2511 3984 \r\nQ 2250 4219 1831 4219 \r\nQ 1534 4219 1204 4116 \r\nQ 875 4013 500 3803 \r\nL 500 4441 \r\nQ 881 4594 1212 4672 \r\nQ 1544 4750 1819 4750 \r\nQ 2544 4750 2975 4387 \r\nQ 3406 4025 3406 3419 \r\nQ 3406 3131 3298 2873 \r\nQ 3191 2616 2906 2266 \r\nQ 2828 2175 2409 1742 \r\nQ 1991 1309 1228 531 \r\nz\r\n\" id=\"DejaVuSans-32\" transform=\"scale(0.015625)\"/>\r\n       </defs>\r\n       <use xlink:href=\"#DejaVuSans-32\"/>\r\n       <use x=\"63.623047\" xlink:href=\"#DejaVuSans-30\"/>\r\n       <use x=\"127.246094\" xlink:href=\"#DejaVuSans-30\"/>\r\n      </g>\r\n     </g>\r\n    </g>\r\n    <g id=\"xtick_3\">\r\n     <g id=\"line2d_3\">\r\n      <g>\r\n       <use style=\"stroke:#000000;stroke-width:0.8;\" x=\"120.37222\" xlink:href=\"#mb085d06804\" y=\"228.330499\"/>\r\n      </g>\r\n     </g>\r\n     <g id=\"text_3\">\r\n      <!-- 400 -->\r\n      <g transform=\"translate(110.82847 242.928936)scale(0.1 -0.1)\">\r\n       <defs>\r\n        <path d=\"M 2419 4116 \r\nL 825 1625 \r\nL 2419 1625 \r\nL 2419 4116 \r\nz\r\nM 2253 4666 \r\nL 3047 4666 \r\nL 3047 1625 \r\nL 3713 1625 \r\nL 3713 1100 \r\nL 3047 1100 \r\nL 3047 0 \r\nL 2419 0 \r\nL 2419 1100 \r\nL 313 1100 \r\nL 313 1709 \r\nL 2253 4666 \r\nz\r\n\" id=\"DejaVuSans-34\" transform=\"scale(0.015625)\"/>\r\n       </defs>\r\n       <use xlink:href=\"#DejaVuSans-34\"/>\r\n       <use x=\"63.623047\" xlink:href=\"#DejaVuSans-30\"/>\r\n       <use x=\"127.246094\" xlink:href=\"#DejaVuSans-30\"/>\r\n      </g>\r\n     </g>\r\n    </g>\r\n    <g id=\"xtick_4\">\r\n     <g id=\"line2d_4\">\r\n      <g>\r\n       <use style=\"stroke:#000000;stroke-width:0.8;\" x=\"163.86022\" xlink:href=\"#mb085d06804\" y=\"228.330499\"/>\r\n      </g>\r\n     </g>\r\n     <g id=\"text_4\">\r\n      <!-- 600 -->\r\n      <g transform=\"translate(154.31647 242.928936)scale(0.1 -0.1)\">\r\n       <defs>\r\n        <path d=\"M 2113 2584 \r\nQ 1688 2584 1439 2293 \r\nQ 1191 2003 1191 1497 \r\nQ 1191 994 1439 701 \r\nQ 1688 409 2113 409 \r\nQ 2538 409 2786 701 \r\nQ 3034 994 3034 1497 \r\nQ 3034 2003 2786 2293 \r\nQ 2538 2584 2113 2584 \r\nz\r\nM 3366 4563 \r\nL 3366 3988 \r\nQ 3128 4100 2886 4159 \r\nQ 2644 4219 2406 4219 \r\nQ 1781 4219 1451 3797 \r\nQ 1122 3375 1075 2522 \r\nQ 1259 2794 1537 2939 \r\nQ 1816 3084 2150 3084 \r\nQ 2853 3084 3261 2657 \r\nQ 3669 2231 3669 1497 \r\nQ 3669 778 3244 343 \r\nQ 2819 -91 2113 -91 \r\nQ 1303 -91 875 529 \r\nQ 447 1150 447 2328 \r\nQ 447 3434 972 4092 \r\nQ 1497 4750 2381 4750 \r\nQ 2619 4750 2861 4703 \r\nQ 3103 4656 3366 4563 \r\nz\r\n\" id=\"DejaVuSans-36\" transform=\"scale(0.015625)\"/>\r\n       </defs>\r\n       <use xlink:href=\"#DejaVuSans-36\"/>\r\n       <use x=\"63.623047\" xlink:href=\"#DejaVuSans-30\"/>\r\n       <use x=\"127.246094\" xlink:href=\"#DejaVuSans-30\"/>\r\n      </g>\r\n     </g>\r\n    </g>\r\n    <g id=\"xtick_5\">\r\n     <g id=\"line2d_5\">\r\n      <g>\r\n       <use style=\"stroke:#000000;stroke-width:0.8;\" x=\"207.34822\" xlink:href=\"#mb085d06804\" y=\"228.330499\"/>\r\n      </g>\r\n     </g>\r\n     <g id=\"text_5\">\r\n      <!-- 800 -->\r\n      <g transform=\"translate(197.80447 242.928936)scale(0.1 -0.1)\">\r\n       <defs>\r\n        <path d=\"M 2034 2216 \r\nQ 1584 2216 1326 1975 \r\nQ 1069 1734 1069 1313 \r\nQ 1069 891 1326 650 \r\nQ 1584 409 2034 409 \r\nQ 2484 409 2743 651 \r\nQ 3003 894 3003 1313 \r\nQ 3003 1734 2745 1975 \r\nQ 2488 2216 2034 2216 \r\nz\r\nM 1403 2484 \r\nQ 997 2584 770 2862 \r\nQ 544 3141 544 3541 \r\nQ 544 4100 942 4425 \r\nQ 1341 4750 2034 4750 \r\nQ 2731 4750 3128 4425 \r\nQ 3525 4100 3525 3541 \r\nQ 3525 3141 3298 2862 \r\nQ 3072 2584 2669 2484 \r\nQ 3125 2378 3379 2068 \r\nQ 3634 1759 3634 1313 \r\nQ 3634 634 3220 271 \r\nQ 2806 -91 2034 -91 \r\nQ 1263 -91 848 271 \r\nQ 434 634 434 1313 \r\nQ 434 1759 690 2068 \r\nQ 947 2378 1403 2484 \r\nz\r\nM 1172 3481 \r\nQ 1172 3119 1398 2916 \r\nQ 1625 2713 2034 2713 \r\nQ 2441 2713 2670 2916 \r\nQ 2900 3119 2900 3481 \r\nQ 2900 3844 2670 4047 \r\nQ 2441 4250 2034 4250 \r\nQ 1625 4250 1398 4047 \r\nQ 1172 3844 1172 3481 \r\nz\r\n\" id=\"DejaVuSans-38\" transform=\"scale(0.015625)\"/>\r\n       </defs>\r\n       <use xlink:href=\"#DejaVuSans-38\"/>\r\n       <use x=\"63.623047\" xlink:href=\"#DejaVuSans-30\"/>\r\n       <use x=\"127.246094\" xlink:href=\"#DejaVuSans-30\"/>\r\n      </g>\r\n     </g>\r\n    </g>\r\n   </g>\r\n   <g id=\"matplotlib.axis_2\">\r\n    <g id=\"ytick_1\">\r\n     <g id=\"line2d_6\">\r\n      <defs>\r\n       <path d=\"M 0 0 \r\nL -3.5 0 \r\n\" id=\"m43c3674b19\" style=\"stroke:#000000;stroke-width:0.8;\"/>\r\n      </defs>\r\n      <g>\r\n       <use style=\"stroke:#000000;stroke-width:0.8;\" x=\"33.2875\" xlink:href=\"#m43c3674b19\" y=\"10.999219\"/>\r\n      </g>\r\n     </g>\r\n     <g id=\"text_6\">\r\n      <!-- 0 -->\r\n      <g transform=\"translate(19.925 14.798437)scale(0.1 -0.1)\">\r\n       <use xlink:href=\"#DejaVuSans-30\"/>\r\n      </g>\r\n     </g>\r\n    </g>\r\n    <g id=\"ytick_2\">\r\n     <g id=\"line2d_7\">\r\n      <g>\r\n       <use style=\"stroke:#000000;stroke-width:0.8;\" x=\"33.2875\" xlink:href=\"#m43c3674b19\" y=\"54.487219\"/>\r\n      </g>\r\n     </g>\r\n     <g id=\"text_7\">\r\n      <!-- 200 -->\r\n      <g transform=\"translate(7.2 58.286437)scale(0.1 -0.1)\">\r\n       <use xlink:href=\"#DejaVuSans-32\"/>\r\n       <use x=\"63.623047\" xlink:href=\"#DejaVuSans-30\"/>\r\n       <use x=\"127.246094\" xlink:href=\"#DejaVuSans-30\"/>\r\n      </g>\r\n     </g>\r\n    </g>\r\n    <g id=\"ytick_3\">\r\n     <g id=\"line2d_8\">\r\n      <g>\r\n       <use style=\"stroke:#000000;stroke-width:0.8;\" x=\"33.2875\" xlink:href=\"#m43c3674b19\" y=\"97.975219\"/>\r\n      </g>\r\n     </g>\r\n     <g id=\"text_8\">\r\n      <!-- 400 -->\r\n      <g transform=\"translate(7.2 101.774437)scale(0.1 -0.1)\">\r\n       <use xlink:href=\"#DejaVuSans-34\"/>\r\n       <use x=\"63.623047\" xlink:href=\"#DejaVuSans-30\"/>\r\n       <use x=\"127.246094\" xlink:href=\"#DejaVuSans-30\"/>\r\n      </g>\r\n     </g>\r\n    </g>\r\n    <g id=\"ytick_4\">\r\n     <g id=\"line2d_9\">\r\n      <g>\r\n       <use style=\"stroke:#000000;stroke-width:0.8;\" x=\"33.2875\" xlink:href=\"#m43c3674b19\" y=\"141.463219\"/>\r\n      </g>\r\n     </g>\r\n     <g id=\"text_9\">\r\n      <!-- 600 -->\r\n      <g transform=\"translate(7.2 145.262437)scale(0.1 -0.1)\">\r\n       <use xlink:href=\"#DejaVuSans-36\"/>\r\n       <use x=\"63.623047\" xlink:href=\"#DejaVuSans-30\"/>\r\n       <use x=\"127.246094\" xlink:href=\"#DejaVuSans-30\"/>\r\n      </g>\r\n     </g>\r\n    </g>\r\n    <g id=\"ytick_5\">\r\n     <g id=\"line2d_10\">\r\n      <g>\r\n       <use style=\"stroke:#000000;stroke-width:0.8;\" x=\"33.2875\" xlink:href=\"#m43c3674b19\" y=\"184.951219\"/>\r\n      </g>\r\n     </g>\r\n     <g id=\"text_10\">\r\n      <!-- 800 -->\r\n      <g transform=\"translate(7.2 188.750437)scale(0.1 -0.1)\">\r\n       <use xlink:href=\"#DejaVuSans-38\"/>\r\n       <use x=\"63.623047\" xlink:href=\"#DejaVuSans-30\"/>\r\n       <use x=\"127.246094\" xlink:href=\"#DejaVuSans-30\"/>\r\n      </g>\r\n     </g>\r\n    </g>\r\n   </g>\r\n   <g id=\"patch_3\">\r\n    <path d=\"M 33.2875 228.330499 \r\nL 33.2875 10.890499 \r\n\" style=\"fill:none;stroke:#000000;stroke-linecap:square;stroke-linejoin:miter;stroke-width:0.8;\"/>\r\n   </g>\r\n   <g id=\"patch_4\">\r\n    <path d=\"M 250.7275 228.330499 \r\nL 250.7275 10.890499 \r\n\" style=\"fill:none;stroke:#000000;stroke-linecap:square;stroke-linejoin:miter;stroke-width:0.8;\"/>\r\n   </g>\r\n   <g id=\"patch_5\">\r\n    <path d=\"M 33.2875 228.330499 \r\nL 250.7275 228.330499 \r\n\" style=\"fill:none;stroke:#000000;stroke-linecap:square;stroke-linejoin:miter;stroke-width:0.8;\"/>\r\n   </g>\r\n   <g id=\"patch_6\">\r\n    <path d=\"M 33.2875 10.890499 \r\nL 250.7275 10.890499 \r\n\" style=\"fill:none;stroke:#000000;stroke-linecap:square;stroke-linejoin:miter;stroke-width:0.8;\"/>\r\n   </g>\r\n  </g>\r\n  <g id=\"axes_2\">\r\n   <g id=\"patch_7\">\r\n    <path d=\"M 267.4675 228.330499 \r\nL 278.3395 228.330499 \r\nL 278.3395 10.890499 \r\nL 267.4675 10.890499 \r\nz\r\n\" style=\"fill:#ffffff;\"/>\r\n   </g>\r\n   <g id=\"patch_8\">\r\n    <path clip-path=\"url(#p855792ee18)\" d=\"M 267.4675 228.330499 \r\nL 267.4675 227.481124 \r\nL 267.4675 11.739874 \r\nL 267.4675 10.890499 \r\nL 278.3395 10.890499 \r\nL 278.3395 11.739874 \r\nL 278.3395 227.481124 \r\nL 278.3395 228.330499 \r\nL 278.3395 228.330499 \r\nz\r\n\" style=\"fill:#ffffff;stroke:#ffffff;stroke-linejoin:miter;stroke-width:0.01;\"/>\r\n   </g>\r\n   <image height=\"217\" id=\"image20a780312b\" transform=\"scale(1 -1)translate(0 -217)\" width=\"11\" x=\"267\" xlink:href=\"data:image/png;base64,\r\niVBORw0KGgoAAAANSUhEUgAAAAsAAADZCAYAAAD2WsoCAAABKUlEQVR4nO2ZMQ7DMAwDXSD/f2uXbpHUtd18wwGSkc4EQVMUYaev+rxrbf6uVdvYda1KAibMC8nQwEhGHn7ASjLugQecGf5trBv+JtnQhhLRQgZhLsSMJpjz3GD9fPwBUZAeN/6YkRvaDnrWsa4bOMGJzf+48Qv2NgVtd5OFFbtOA3t3fvHac7obYvNrL83T3WhTjIeHv8KrXBR+LxuWG+yl6Wlm241eQN64t7Ftxt0kzyKz5oaXZxSk9GSQD5IecxLmDO+ACNzDDZYNIMPLM2KOJgfswYzCD5yjmveJKRhlgzETMPqvDckg4PCGwtwA4NSsY3kmMiCzBWbNr8loUgVe+JF1KBso/IgZFL8pw7Pu1sIvTlCT0cYNAEa9gZhv7/5MZHjWkXF/AUb9uuQMO6sYAAAAAElFTkSuQmCC\" y=\"-11\"/>\r\n   <g id=\"matplotlib.axis_3\"/>\r\n   <g id=\"matplotlib.axis_4\">\r\n    <g id=\"ytick_6\">\r\n     <g id=\"line2d_11\">\r\n      <defs>\r\n       <path d=\"M 0 0 \r\nL 3.5 0 \r\n\" id=\"m876ba204c0\" style=\"stroke:#000000;stroke-width:0.8;\"/>\r\n      </defs>\r\n      <g>\r\n       <use style=\"stroke:#000000;stroke-width:0.8;\" x=\"278.3395\" xlink:href=\"#m876ba204c0\" y=\"228.330499\"/>\r\n      </g>\r\n     </g>\r\n     <g id=\"text_11\">\r\n      <!-- 0 -->\r\n      <g transform=\"translate(285.3395 232.129718)scale(0.1 -0.1)\">\r\n       <use xlink:href=\"#DejaVuSans-30\"/>\r\n      </g>\r\n     </g>\r\n    </g>\r\n    <g id=\"ytick_7\">\r\n     <g id=\"line2d_12\">\r\n      <g>\r\n       <use style=\"stroke:#000000;stroke-width:0.8;\" x=\"278.3395\" xlink:href=\"#m876ba204c0\" y=\"197.579839\"/>\r\n      </g>\r\n     </g>\r\n     <g id=\"text_12\">\r\n      <!-- 1 -->\r\n      <g transform=\"translate(285.3395 201.379058)scale(0.1 -0.1)\">\r\n       <defs>\r\n        <path d=\"M 794 531 \r\nL 1825 531 \r\nL 1825 4091 \r\nL 703 3866 \r\nL 703 4441 \r\nL 1819 4666 \r\nL 2450 4666 \r\nL 2450 531 \r\nL 3481 531 \r\nL 3481 0 \r\nL 794 0 \r\nL 794 531 \r\nz\r\n\" id=\"DejaVuSans-31\" transform=\"scale(0.015625)\"/>\r\n       </defs>\r\n       <use xlink:href=\"#DejaVuSans-31\"/>\r\n      </g>\r\n     </g>\r\n    </g>\r\n    <g id=\"ytick_8\">\r\n     <g id=\"line2d_13\">\r\n      <g>\r\n       <use style=\"stroke:#000000;stroke-width:0.8;\" x=\"278.3395\" xlink:href=\"#m876ba204c0\" y=\"166.829179\"/>\r\n      </g>\r\n     </g>\r\n     <g id=\"text_13\">\r\n      <!-- 2 -->\r\n      <g transform=\"translate(285.3395 170.628398)scale(0.1 -0.1)\">\r\n       <use xlink:href=\"#DejaVuSans-32\"/>\r\n      </g>\r\n     </g>\r\n    </g>\r\n    <g id=\"ytick_9\">\r\n     <g id=\"line2d_14\">\r\n      <g>\r\n       <use style=\"stroke:#000000;stroke-width:0.8;\" x=\"278.3395\" xlink:href=\"#m876ba204c0\" y=\"136.07852\"/>\r\n      </g>\r\n     </g>\r\n     <g id=\"text_14\">\r\n      <!-- 3 -->\r\n      <g transform=\"translate(285.3395 139.877738)scale(0.1 -0.1)\">\r\n       <defs>\r\n        <path d=\"M 2597 2516 \r\nQ 3050 2419 3304 2112 \r\nQ 3559 1806 3559 1356 \r\nQ 3559 666 3084 287 \r\nQ 2609 -91 1734 -91 \r\nQ 1441 -91 1130 -33 \r\nQ 819 25 488 141 \r\nL 488 750 \r\nQ 750 597 1062 519 \r\nQ 1375 441 1716 441 \r\nQ 2309 441 2620 675 \r\nQ 2931 909 2931 1356 \r\nQ 2931 1769 2642 2001 \r\nQ 2353 2234 1838 2234 \r\nL 1294 2234 \r\nL 1294 2753 \r\nL 1863 2753 \r\nQ 2328 2753 2575 2939 \r\nQ 2822 3125 2822 3475 \r\nQ 2822 3834 2567 4026 \r\nQ 2313 4219 1838 4219 \r\nQ 1578 4219 1281 4162 \r\nQ 984 4106 628 3988 \r\nL 628 4550 \r\nQ 988 4650 1302 4700 \r\nQ 1616 4750 1894 4750 \r\nQ 2613 4750 3031 4423 \r\nQ 3450 4097 3450 3541 \r\nQ 3450 3153 3228 2886 \r\nQ 3006 2619 2597 2516 \r\nz\r\n\" id=\"DejaVuSans-33\" transform=\"scale(0.015625)\"/>\r\n       </defs>\r\n       <use xlink:href=\"#DejaVuSans-33\"/>\r\n      </g>\r\n     </g>\r\n    </g>\r\n    <g id=\"ytick_10\">\r\n     <g id=\"line2d_15\">\r\n      <g>\r\n       <use style=\"stroke:#000000;stroke-width:0.8;\" x=\"278.3395\" xlink:href=\"#m876ba204c0\" y=\"105.32786\"/>\r\n      </g>\r\n     </g>\r\n     <g id=\"text_15\">\r\n      <!-- 4 -->\r\n      <g transform=\"translate(285.3395 109.127079)scale(0.1 -0.1)\">\r\n       <use xlink:href=\"#DejaVuSans-34\"/>\r\n      </g>\r\n     </g>\r\n    </g>\r\n    <g id=\"ytick_11\">\r\n     <g id=\"line2d_16\">\r\n      <g>\r\n       <use style=\"stroke:#000000;stroke-width:0.8;\" x=\"278.3395\" xlink:href=\"#m876ba204c0\" y=\"74.5772\"/>\r\n      </g>\r\n     </g>\r\n     <g id=\"text_16\">\r\n      <!-- 5 -->\r\n      <g transform=\"translate(285.3395 78.376419)scale(0.1 -0.1)\">\r\n       <defs>\r\n        <path d=\"M 691 4666 \r\nL 3169 4666 \r\nL 3169 4134 \r\nL 1269 4134 \r\nL 1269 2991 \r\nQ 1406 3038 1543 3061 \r\nQ 1681 3084 1819 3084 \r\nQ 2600 3084 3056 2656 \r\nQ 3513 2228 3513 1497 \r\nQ 3513 744 3044 326 \r\nQ 2575 -91 1722 -91 \r\nQ 1428 -91 1123 -41 \r\nQ 819 9 494 109 \r\nL 494 744 \r\nQ 775 591 1075 516 \r\nQ 1375 441 1709 441 \r\nQ 2250 441 2565 725 \r\nQ 2881 1009 2881 1497 \r\nQ 2881 1984 2565 2268 \r\nQ 2250 2553 1709 2553 \r\nQ 1456 2553 1204 2497 \r\nQ 953 2441 691 2322 \r\nL 691 4666 \r\nz\r\n\" id=\"DejaVuSans-35\" transform=\"scale(0.015625)\"/>\r\n       </defs>\r\n       <use xlink:href=\"#DejaVuSans-35\"/>\r\n      </g>\r\n     </g>\r\n    </g>\r\n    <g id=\"ytick_12\">\r\n     <g id=\"line2d_17\">\r\n      <g>\r\n       <use style=\"stroke:#000000;stroke-width:0.8;\" x=\"278.3395\" xlink:href=\"#m876ba204c0\" y=\"43.826541\"/>\r\n      </g>\r\n     </g>\r\n     <g id=\"text_17\">\r\n      <!-- 6 -->\r\n      <g transform=\"translate(285.3395 47.625759)scale(0.1 -0.1)\">\r\n       <use xlink:href=\"#DejaVuSans-36\"/>\r\n      </g>\r\n     </g>\r\n    </g>\r\n    <g id=\"ytick_13\">\r\n     <g id=\"line2d_18\">\r\n      <g>\r\n       <use style=\"stroke:#000000;stroke-width:0.8;\" x=\"278.3395\" xlink:href=\"#m876ba204c0\" y=\"13.075881\"/>\r\n      </g>\r\n     </g>\r\n     <g id=\"text_18\">\r\n      <!-- 7 -->\r\n      <g transform=\"translate(285.3395 16.8751)scale(0.1 -0.1)\">\r\n       <defs>\r\n        <path d=\"M 525 4666 \r\nL 3525 4666 \r\nL 3525 4397 \r\nL 1831 0 \r\nL 1172 0 \r\nL 2766 4134 \r\nL 525 4134 \r\nL 525 4666 \r\nz\r\n\" id=\"DejaVuSans-37\" transform=\"scale(0.015625)\"/>\r\n       </defs>\r\n       <use xlink:href=\"#DejaVuSans-37\"/>\r\n      </g>\r\n     </g>\r\n    </g>\r\n   </g>\r\n   <g id=\"LineCollection_1\"/>\r\n   <g id=\"patch_9\">\r\n    <path d=\"M 267.4675 228.330499 \r\nL 267.4675 227.481124 \r\nL 267.4675 11.739874 \r\nL 267.4675 10.890499 \r\nL 278.3395 10.890499 \r\nL 278.3395 11.739874 \r\nL 278.3395 227.481124 \r\nL 278.3395 228.330499 \r\nz\r\n\" style=\"fill:none;stroke:#000000;stroke-linecap:square;stroke-linejoin:miter;stroke-width:0.8;\"/>\r\n   </g>\r\n  </g>\r\n </g>\r\n <defs>\r\n  <clipPath id=\"p65dfcbaae2\">\r\n   <rect height=\"217.44\" width=\"217.44\" x=\"33.2875\" y=\"10.890499\"/>\r\n  </clipPath>\r\n  <clipPath id=\"p855792ee18\">\r\n   <rect height=\"217.44\" width=\"10.872\" x=\"267.4675\" y=\"10.890499\"/>\r\n  </clipPath>\r\n </defs>\r\n</svg>\r\n",
            "image/png": "[encoded data removed]"
          },
          "metadata": {
            "needs_background": "light"
          }
        }
      ]
    },
    {
      "cell_type": "markdown",
      "metadata": {
        "id": "XmZ4smUcf89q",
        "colab_type": "text"
      },
      "source": [
        "## 13. Save the numpy ndarray object into a npy file"
      ]
    },
    {
      "cell_type": "markdown",
      "metadata": {
        "id": "mor-Nulpf89r",
        "colab_type": "text"
      },
      "source": [
        "Finally, one of the most important parts of the entire analysis process, the storage of the results. We can do this with the `np.savetxt()` function:"
      ]
    },
    {
      "cell_type": "code",
      "metadata": {
        "id": "bQsxuM45f89s",
        "colab_type": "code",
        "colab": {}
      },
      "source": [
        "import numpy as np\n",
        "x = np.arange(0.0,5.0,1.0)\n",
        "np.savetxt('test.txt', x, delimiter=',')"
      ],
      "execution_count": null,
      "outputs": []
    },
    {
      "cell_type": "markdown",
      "metadata": {
        "id": "72_3EDqvf89u",
        "colab_type": "text"
      },
      "source": [
        "## Conclusions"
      ]
    },
    {
      "cell_type": "markdown",
      "metadata": {
        "id": "6wI9rklxf89v",
        "colab_type": "text"
      },
      "source": [
        "We have learned the fundamentals of the `numpy` library for scientific computing, which allows us to create multidimensional arrays and operate them using arithmetic, logical, and relational operators. We have also learned how to restructure arrangements in various ways, as well as the basic tools for visualization. \n",
        "\n",
        "In the next case study, we will see what is related to the `pandas` library, so we are ready to do data analysis dynamically and efficiently!"
      ]
    }
  ]
}