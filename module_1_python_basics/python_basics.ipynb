{
 "metadata": {
  "language_info": {
   "codemirror_mode": {
    "name": "ipython",
    "version": 3
   },
   "file_extension": ".py",
   "mimetype": "text/x-python",
   "name": "python",
   "nbconvert_exporter": "python",
   "pygments_lexer": "ipython3",
   "version": "3.8.9-final"
  },
  "orig_nbformat": 2,
  "kernelspec": {
   "name": "python389jvsc74a57bd0bbe2475d0ef363d2446b8e424bcb9fcdfbc8b3ab74fd2a2035c1014c5592e7a5",
   "display_name": "Python 3.8.9 64-bit ('.env')"
  },
  "metadata": {
   "interpreter": {
    "hash": "bbe2475d0ef363d2446b8e424bcb9fcdfbc8b3ab74fd2a2035c1014c5592e7a5"
   }
  }
 },
 "nbformat": 4,
 "nbformat_minor": 2,
 "cells": [
  {
   "source": [
    "# Python Basics"
   ],
   "cell_type": "markdown",
   "metadata": {}
  },
  {
   "source": [
    "1. ### Write a program to take a number from hte user using a prompt \"enter a number:\""
   ],
   "cell_type": "markdown",
   "metadata": {}
  },
  {
   "cell_type": "code",
   "execution_count": 6,
   "metadata": {},
   "outputs": [],
   "source": [
    "number = input(\"enter a number\")"
   ]
  },
  {
   "source": [
    "2. ### Print the number taken by the user in the previous question.\n",
    "<b>Hint:</b> assign your program to a variable in question 1"
   ],
   "cell_type": "markdown",
   "metadata": {}
  },
  {
   "cell_type": "code",
   "execution_count": 7,
   "metadata": {},
   "outputs": [
    {
     "output_type": "stream",
     "name": "stdout",
     "text": [
      "5\n"
     ]
    }
   ],
   "source": [
    "print(number)"
   ]
  },
  {
   "source": [
    "3.### Print the square of that number"
   ],
   "cell_type": "markdown",
   "metadata": {}
  },
  {
   "cell_type": "code",
   "execution_count": 11,
   "metadata": {},
   "outputs": [
    {
     "output_type": "stream",
     "name": "stdout",
     "text": [
      "25\n"
     ]
    }
   ],
   "source": [
    "number :int = int(number)\n",
    "print(number**2)"
   ]
  },
  {
   "source": [
    "4. ### Create a string with value \"Program\" and print 'o' from it.\n",
    "<b> Hint:</b> reacall indexing"
   ],
   "cell_type": "markdown",
   "metadata": {}
  },
  {
   "cell_type": "code",
   "execution_count": 19,
   "metadata": {},
   "outputs": [
    {
     "output_type": "stream",
     "name": "stdout",
     "text": [
      "o\n"
     ]
    }
   ],
   "source": [
    "program :str = \"Program\"\n",
    "print(program[2])"
   ]
  },
  {
   "source": [
    "5. ### Print the last 4 characters of the above string."
   ],
   "cell_type": "markdown",
   "metadata": {}
  },
  {
   "cell_type": "code",
   "execution_count": 39,
   "metadata": {},
   "outputs": [
    {
     "output_type": "execute_result",
     "data": {
      "text/plain": [
       "'gram'"
      ]
     },
     "metadata": {},
     "execution_count": 39
    }
   ],
   "source": [
    "program[-4:]"
   ]
  },
  {
   "source": [
    "### 6.Check if the string contains all lowercase letters."
   ],
   "cell_type": "markdown",
   "metadata": {}
  },
  {
   "cell_type": "code",
   "execution_count": 33,
   "metadata": {},
   "outputs": [
    {
     "output_type": "execute_result",
     "data": {
      "text/plain": [
       "False"
      ]
     },
     "metadata": {},
     "execution_count": 33
    }
   ],
   "source": [
    "program.isupper()"
   ]
  },
  {
   "source": [
    "### 7.Print the type of the string"
   ],
   "cell_type": "markdown",
   "metadata": {}
  },
  {
   "cell_type": "code",
   "execution_count": 35,
   "metadata": {},
   "outputs": [
    {
     "output_type": "stream",
     "name": "stdout",
     "text": [
      "<class 'str'>\n"
     ]
    }
   ],
   "source": [
    "print(type(program))"
   ]
  }
 ]
}