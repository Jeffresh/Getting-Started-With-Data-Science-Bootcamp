{
 "metadata": {
  "language_info": {
   "codemirror_mode": {
    "name": "ipython",
    "version": 3
   },
   "file_extension": ".py",
   "mimetype": "text/x-python",
   "name": "python",
   "nbconvert_exporter": "python",
   "pygments_lexer": "ipython3",
   "version": "3.8.9-final"
  },
  "orig_nbformat": 2,
  "kernelspec": {
   "name": "python389jvsc74a57bd0bbe2475d0ef363d2446b8e424bcb9fcdfbc8b3ab74fd2a2035c1014c5592e7a5",
   "display_name": "Python 3.8.9 64-bit ('.env')"
  },
  "metadata": {
   "interpreter": {
    "hash": "bbe2475d0ef363d2446b8e424bcb9fcdfbc8b3ab74fd2a2035c1014c5592e7a5"
   }
  }
 },
 "nbformat": 4,
 "nbformat_minor": 2,
 "cells": [
  {
   "source": [
    "# Python Basics"
   ],
   "cell_type": "markdown",
   "metadata": {}
  },
  {
   "source": [
    "1. ### Write a program to take a number from hte user using a prompt \"enter a number:\""
   ],
   "cell_type": "markdown",
   "metadata": {}
  },
  {
   "cell_type": "code",
   "execution_count": 2,
   "metadata": {},
   "outputs": [],
   "source": [
    "number = input(\"enter a number\")"
   ]
  },
  {
   "source": [
    "2. ### Print the number taken by the user in the previous question.\n",
    "<b>Hint:</b> assign your program to a variable in question 1"
   ],
   "cell_type": "markdown",
   "metadata": {}
  },
  {
   "cell_type": "code",
   "execution_count": 1,
   "metadata": {},
   "outputs": [
    {
     "output_type": "error",
     "ename": "NameError",
     "evalue": "name 'number' is not defined",
     "traceback": [
      "\u001b[1;31m---------------------------------------------------------------------------\u001b[0m",
      "\u001b[1;31mNameError\u001b[0m                                 Traceback (most recent call last)",
      "\u001b[1;32m<ipython-input-1-03090db32dff>\u001b[0m in \u001b[0;36m<module>\u001b[1;34m\u001b[0m\n\u001b[1;32m----> 1\u001b[1;33m \u001b[0mprint\u001b[0m\u001b[1;33m(\u001b[0m\u001b[0mnumber\u001b[0m\u001b[1;33m)\u001b[0m\u001b[1;33m\u001b[0m\u001b[1;33m\u001b[0m\u001b[0m\n\u001b[0m",
      "\u001b[1;31mNameError\u001b[0m: name 'number' is not defined"
     ]
    }
   ],
   "source": [
    "print(number)"
   ]
  },
  {
   "source": [
    "3.### Print the square of that number"
   ],
   "cell_type": "markdown",
   "metadata": {}
  },
  {
   "cell_type": "code",
   "execution_count": 11,
   "metadata": {},
   "outputs": [
    {
     "output_type": "stream",
     "name": "stdout",
     "text": [
      "25\n"
     ]
    }
   ],
   "source": [
    "number :int = int(number)\n",
    "print(number**2)"
   ]
  },
  {
   "source": [
    "4. ### Create a string with value \"Program\" and print 'o' from it.\n",
    "<b> Hint:</b> reacall indexing"
   ],
   "cell_type": "markdown",
   "metadata": {}
  },
  {
   "cell_type": "code",
   "execution_count": 4,
   "metadata": {},
   "outputs": [
    {
     "output_type": "stream",
     "name": "stdout",
     "text": [
      "o\n"
     ]
    }
   ],
   "source": [
    "program :str = \"Program\"\n",
    "print(program[2])"
   ]
  },
  {
   "source": [
    "5. ### Print the last 4 characters of the above string."
   ],
   "cell_type": "markdown",
   "metadata": {}
  },
  {
   "cell_type": "code",
   "execution_count": 5,
   "metadata": {},
   "outputs": [
    {
     "output_type": "execute_result",
     "data": {
      "text/plain": [
       "'gram'"
      ]
     },
     "metadata": {},
     "execution_count": 5
    }
   ],
   "source": [
    "program[-4:]"
   ]
  },
  {
   "source": [
    "### 6.Check if the string contains all lowercase letters."
   ],
   "cell_type": "markdown",
   "metadata": {}
  },
  {
   "cell_type": "code",
   "execution_count": 6,
   "metadata": {},
   "outputs": [
    {
     "output_type": "execute_result",
     "data": {
      "text/plain": [
       "False"
      ]
     },
     "metadata": {},
     "execution_count": 6
    }
   ],
   "source": [
    "program.isupper()"
   ]
  },
  {
   "source": [
    "### 7.Print the type of the string"
   ],
   "cell_type": "markdown",
   "metadata": {}
  },
  {
   "cell_type": "code",
   "execution_count": 7,
   "metadata": {},
   "outputs": [
    {
     "output_type": "stream",
     "name": "stdout",
     "text": [
      "<class 'str'>\n"
     ]
    }
   ],
   "source": [
    "print(type(program))"
   ]
  },
  {
   "source": [
    "## Data Structures"
   ],
   "cell_type": "markdown",
   "metadata": {}
  },
  {
   "source": [
    "### 1. Write a program to store the names of your following members of family: john, chan, yuen, matt"
   ],
   "cell_type": "markdown",
   "metadata": {}
  },
  {
   "cell_type": "code",
   "execution_count": 9,
   "metadata": {},
   "outputs": [],
   "source": [
    "list_1 = ['john', 'chan', 'yuen', 'matt']"
   ]
  },
  {
   "source": [
    "### 2. Print the list"
   ],
   "cell_type": "markdown",
   "metadata": {}
  },
  {
   "cell_type": "code",
   "execution_count": 11,
   "metadata": {},
   "outputs": [
    {
     "output_type": "stream",
     "name": "stdout",
     "text": [
      "['john', 'chan', 'yuen', 'matt']\n"
     ]
    }
   ],
   "source": [
    "print(list_1)"
   ]
  },
  {
   "source": [
    "### 3. Grab the 2nd element of the list and print it. (Remember that the indexing starts from 0)"
   ],
   "cell_type": "markdown",
   "metadata": {}
  },
  {
   "cell_type": "code",
   "execution_count": 12,
   "metadata": {},
   "outputs": [
    {
     "output_type": "stream",
     "name": "stdout",
     "text": [
      "chan\n"
     ]
    }
   ],
   "source": [
    "print(list_1[1])"
   ]
  },
  {
   "source": [
    "### 4. Change the 2nd element to the name of your friend and print the list again"
   ],
   "cell_type": "markdown",
   "metadata": {}
  },
  {
   "cell_type": "code",
   "execution_count": 13,
   "metadata": {},
   "outputs": [],
   "source": [
    "list_1[1] = 'Chanu'"
   ]
  },
  {
   "cell_type": "code",
   "execution_count": 15,
   "metadata": {},
   "outputs": [
    {
     "output_type": "stream",
     "name": "stdout",
     "text": [
      "['john', 'Chanu', 'yuen', 'matt']\n"
     ]
    }
   ],
   "source": [
    "print(list_1)"
   ]
  },
  {
   "source": [
    "### 5. Now, try to create  a list of list named list2 with each element as \\[name, age\\] of the family members."
   ],
   "cell_type": "markdown",
   "metadata": {}
  },
  {
   "cell_type": "code",
   "execution_count": 22,
   "metadata": {},
   "outputs": [
    {
     "output_type": "stream",
     "name": "stdout",
     "text": [
      "[['john', 0], ['Chanu', 1], ['yuen', 2], ['matt', 3]]\n"
     ]
    }
   ],
   "source": [
    "list_2 = [[name, age] for age, name in enumerate(list_1)]\n",
    "print(list_2)"
   ]
  },
  {
   "source": [
    "### 6. Add item 7000 after 6000 in the following Python list"
   ],
   "cell_type": "markdown",
   "metadata": {}
  },
  {
   "cell_type": "code",
   "execution_count": 23,
   "metadata": {},
   "outputs": [],
   "source": [
    "list_1 = [10, 20, [300, 400, [5000, 6000], 500], 30, 40]"
   ]
  },
  {
   "cell_type": "code",
   "execution_count": 25,
   "metadata": {},
   "outputs": [],
   "source": [
    "list_1[2][2].append(7000)"
   ]
  },
  {
   "cell_type": "code",
   "execution_count": 26,
   "metadata": {},
   "outputs": [
    {
     "output_type": "execute_result",
     "data": {
      "text/plain": [
       "[10, 20, [300, 400, [5000, 6000, 7000], 500], 30, 40]"
      ]
     },
     "metadata": {},
     "execution_count": 26
    }
   ],
   "source": [
    "list_1"
   ]
  },
  {
   "source": [
    "### 7. Given a python list, find value 20 in the list, and if it is present, repalce it with 200. Only update the first occurrence of a value."
   ],
   "cell_type": "markdown",
   "metadata": {}
  },
  {
   "cell_type": "code",
   "execution_count": 27,
   "metadata": {},
   "outputs": [],
   "source": [
    "list1 = [5, 10, 15, 20, 25, 50, 20]"
   ]
  },
  {
   "cell_type": "code",
   "execution_count": 33,
   "metadata": {},
   "outputs": [
    {
     "output_type": "stream",
     "name": "stdout",
     "text": [
      "[5, 10, 15, 200, 25, 50, 20]\n"
     ]
    }
   ],
   "source": [
    "ind = list1.index(20)\n",
    "list1[ind]=200\n",
    "print(list1)"
   ]
  },
  {
   "source": [
    "### 8. Create a tuple of 5 colours."
   ],
   "cell_type": "markdown",
   "metadata": {}
  },
  {
   "cell_type": "code",
   "execution_count": 35,
   "metadata": {},
   "outputs": [
    {
     "output_type": "execute_result",
     "data": {
      "text/plain": [
       "('green', 'blue', 'black', 'white', 'red')"
      ]
     },
     "metadata": {},
     "execution_count": 35
    }
   ],
   "source": [
    "colors = ('green', 'blue', 'black', 'white', 'red')\n",
    "colors"
   ]
  },
  {
   "source": [
    "### 9. Unpack the following tuple into 4 variables"
   ],
   "cell_type": "markdown",
   "metadata": {}
  },
  {
   "cell_type": "code",
   "execution_count": 36,
   "metadata": {},
   "outputs": [],
   "source": [
    "aTuple=(10, 20, 30, 40)"
   ]
  },
  {
   "cell_type": "code",
   "execution_count": 43,
   "metadata": {},
   "outputs": [
    {
     "output_type": "execute_result",
     "data": {
      "text/plain": [
       "(10, 20, 30, 40)"
      ]
     },
     "metadata": {},
     "execution_count": 43
    }
   ],
   "source": [
    " a, b, c ,d = aTuple\n",
    " a, b, c, d"
   ]
  }
 ]
}